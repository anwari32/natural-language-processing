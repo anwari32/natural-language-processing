{
  "cells": [
    {
      "attachments": {},
      "cell_type": "markdown",
      "metadata": {
        "id": "zh5ve37Foglu"
      },
      "source": [
        "<h3> COVID-19 Question Answering </h3>"
      ]
    },
    {
      "cell_type": "markdown",
      "metadata": {
        "id": "FerRwniRnpTn"
      },
      "source": [
        "### Library Import"
      ]
    },
    {
      "cell_type": "code",
      "execution_count": 2,
      "metadata": {
        "colab": {
          "base_uri": "https://localhost:8080/"
        },
        "id": "QffhU6wq2NsG",
        "outputId": "e6286000-9d48-4327-f9a3-222a2e9d516f"
      },
      "outputs": [],
      "source": [
        "import nltk\n",
        "del nltk.data.path[0]\n"
      ]
    },
    {
      "cell_type": "code",
      "execution_count": 4,
      "metadata": {
        "colab": {
          "base_uri": "https://localhost:8080/"
        },
        "id": "bk1GzIgQoalw",
        "outputId": "410f8302-12a8-4903-e528-20b9faa11232"
      },
      "outputs": [
        {
          "name": "stderr",
          "output_type": "stream",
          "text": [
            "[nltk_data] Downloading package punkt to\n",
            "[nltk_data]     C:\\Users\\lmanw\\AppData\\Roaming\\nltk_data...\n",
            "[nltk_data]   Package punkt is already up-to-date!\n",
            "[nltk_data] Downloading package averaged_perceptron_tagger to\n",
            "[nltk_data]     C:\\Users\\lmanw\\AppData\\Roaming\\nltk_data...\n",
            "[nltk_data]   Package averaged_perceptron_tagger is already up-to-\n",
            "[nltk_data]       date!\n",
            "[nltk_data] Downloading package wordnet to\n",
            "[nltk_data]     C:\\Users\\lmanw\\AppData\\Roaming\\nltk_data...\n",
            "[nltk_data]   Package wordnet is already up-to-date!\n",
            "[nltk_data] Downloading package stopwords to\n",
            "[nltk_data]     C:\\Users\\lmanw\\AppData\\Roaming\\nltk_data...\n",
            "[nltk_data]   Package stopwords is already up-to-date!\n",
            "w:\\Research\\natural-language-processing\\.virtualenv\\nlp\\lib\\site-packages\\tqdm\\auto.py:21: TqdmWarning: IProgress not found. Please update jupyter and ipywidgets. See https://ipywidgets.readthedocs.io/en/stable/user_install.html\n",
            "  from .autonotebook import tqdm as notebook_tqdm\n"
          ]
        }
      ],
      "source": [
        "import pandas as pd\n",
        "import numpy as np\n",
        "import nltk\n",
        "nltk.download('punkt')\n",
        "nltk.download('averaged_perceptron_tagger')\n",
        "from nltk import word_tokenize, pos_tag, sent_tokenize\n",
        "from sklearn.metrics import accuracy_score\n",
        "nltk.download('wordnet')\n",
        "from nltk.stem.wordnet import WordNetLemmatizer\n",
        "from nltk.corpus import stopwords\n",
        "nltk.download('stopwords')\n",
        "import re\n",
        "from sklearn.feature_extraction.text import TfidfVectorizer,CountVectorizer\n",
        "from sklearn.metrics.pairwise import cosine_similarity\n",
        "from transformers import BertModel, BertTokenizer\n",
        "import torch\n"
      ]
    },
    {
      "attachments": {},
      "cell_type": "markdown",
      "metadata": {},
      "source": [
        "### Load Dataset\n",
        "Dataset diperoleh dari https://github.com/deepset-ai/COVID-QA"
      ]
    },
    {
      "cell_type": "code",
      "execution_count": null,
      "metadata": {},
      "outputs": [],
      "source": [
        "import os \n",
        "import pandas as pd\n",
        "doc_json_path = os.path.join(\"COVID-QA.json\")\n",
        "json_df = pd.read_json(doc_json_path)\n",
        "json_df = pd.json_normalize(json_df[\"data\"], record_path=\"paragraphs\")\n",
        "json_df"
      ]
    },
    {
      "cell_type": "code",
      "execution_count": 53,
      "metadata": {
        "colab": {
          "base_uri": "https://localhost:8080/",
          "height": 674
        },
        "collapsed": true,
        "id": "ib_3LzYGnKDK",
        "outputId": "2e4893fa-c354-413d-c2c2-f91e8db8cb7b"
      },
      "outputs": [
        {
          "name": "stdout",
          "output_type": "stream",
          "text": [
            "True\n"
          ]
        },
        {
          "name": "stderr",
          "output_type": "stream",
          "text": [
            "w:\\Research\\natural-language-processing\\.virtualenv\\nlp\\lib\\site-packages\\pandas\\core\\indexing.py:1732: SettingWithCopyWarning: \n",
            "A value is trying to be set on a copy of a slice from a DataFrame\n",
            "\n",
            "See the caveats in the documentation: https://pandas.pydata.org/pandas-docs/stable/user_guide/indexing.html#returning-a-view-versus-a-copy\n",
            "  self._setitem_single_block(indexer, value, name)\n"
          ]
        }
      ],
      "source": [
        "import os \n",
        "print(\n",
        "  os.path.isfile(os.path.join(\"COVID-QA.json\"))\n",
        ")\n",
        "\n",
        "def doc_preprocessing(doc_json_path):\n",
        "  data = pd.read_json(doc_json_path)\n",
        "  data = pd.json_normalize(data[\"data\"], record_path=\"paragraphs\")\n",
        "  new_data = pd.DataFrame(0, index=np.arange(2019), columns=[\n",
        "    \"document_id\", \"context\", \"question_id\", \"question\", \"answer_start\", \"answer_text\", \"is_impossible\"\n",
        "  ])\n",
        "  idx = 0\n",
        "  for i in range(len(data[\"qas\"])):\n",
        "    for j in range(len(data[\"qas\"][i])):\n",
        "      new_data[\"document_id\"].iloc[idx] = data[\"document_id\"][i]\n",
        "      new_data[\"context\"].iloc[idx] = data[\"context\"][i]\n",
        "      new_data[\"question_id\"].iloc[idx] = data[\"qas\"][i][j][\"id\"]\n",
        "      new_data[\"question\"].iloc[idx] = data[\"qas\"][i][j][\"question\"]\n",
        "      new_data[\"answer_start\"].iloc[idx] = data[\"qas\"][i][j][\"answers\"][0][\"answer_start\"]\n",
        "      new_data[\"answer_text\"].iloc[idx] = data[\"qas\"][i][j][\"answers\"][0][\"text\"]\n",
        "      new_data[\"is_impossible\"].iloc[idx] = data[\"qas\"][i][j][\"is_impossible\"]\n",
        "      idx += 1\n",
        "\n",
        "  return new_data\n",
        "\n",
        "new_data = doc_preprocessing(doc_json_path)\n",
        "new_data.to_csv(\"document_raw.csv\", index=False)"
      ]
    },
    {
      "cell_type": "code",
      "execution_count": 59,
      "metadata": {},
      "outputs": [],
      "source": [
        "# generate unique document\n",
        "unique_docs = new_data[[\"context\", \"document_id\"]]\n",
        "unique_docs = unique_docs.drop_duplicates(keep=\"first\")\n",
        "unique_docs.to_csv(\"document_complete.csv\", index=False)\n"
      ]
    },
    {
      "attachments": {},
      "cell_type": "markdown",
      "metadata": {
        "id": "S6RICIvXnH0I"
      },
      "source": [
        "### Question Understanding\n",
        "Understand a question means extracting its keywords by their respective POS label."
      ]
    },
    {
      "cell_type": "code",
      "execution_count": 13,
      "metadata": {
        "id": "kizrdb_npRLg"
      },
      "outputs": [],
      "source": [
        "# define extract_keyword function.\n",
        "def extract_keyword(question_postag):\n",
        "  keyword = \"\"\n",
        "  for i in range(0, len(question_postag)):\n",
        "    if question_postag[i][1]==\"NNP\" or question_postag[i][1]==\"NNS\" or question_postag[i][1]==\"NN\" or (question_postag[i][1]==\"JJ\" and question_postag[i][0].lower()!=\"many\") or question_postag[i][1]==\"CD\" or question_postag[i][1]==\"RBS\" or (question_postag[i][1]==\"VBN\" and question_postag[i][1]!=\"been\") or (question_postag[i][1]==\"VBD\" and question_postag[i][0].lower()!=\"was\" and question_postag[i][0].lower()!=\"were\") or question_postag[i][1]==\"VBG\" or (question_postag[i][1]==\"VB\" and question_postag[i][0].lower()!=\"be\") or question_postag[i][1]==\"RB\":\n",
        "      keyword += question_postag[i][0] + \" \"\n",
        "  if len(keyword)!=0 and keyword[len(keyword)-1] == \" \":\n",
        "    keyword = keyword[:-1]\n",
        "  return keyword"
      ]
    },
    {
      "cell_type": "code",
      "execution_count": 158,
      "metadata": {
        "colab": {
          "base_uri": "https://localhost:8080/"
        },
        "id": "yutxp26Qp04h",
        "outputId": "7855f5cd-ed43-400c-dcbe-336540793b6a"
      },
      "outputs": [],
      "source": [
        "def get_keyword_from_question(input_question):\n",
        "    quest_token = word_tokenize(input_question)\n",
        "    postag_question = pos_tag(quest_token)\n",
        "    quest_key = extract_keyword(postag_question)\n",
        "    # print(\"Question    : \", input_question)\n",
        "    # print(\"POS TAG     :\", postag_question)\n",
        "    # print(\"Keyword     : \", quest_key)\n",
        "\n",
        "    return (quest_token, postag_question, quest_key)"
      ]
    },
    {
      "cell_type": "code",
      "execution_count": 88,
      "metadata": {},
      "outputs": [
        {
          "name": "stdout",
          "output_type": "stream",
          "text": [
            "Question  :  is covid-19 airborne?\n",
            "POS TAG     : [('is', 'VBZ'), ('covid-19', 'JJ'), ('airborne', 'JJ'), ('?', '.')]\n",
            "Keyword     :  covid-19 airborne\n"
          ]
        },
        {
          "data": {
            "text/plain": [
              "(['is', 'covid-19', 'airborne', '?'],\n",
              " [('is', 'VBZ'), ('covid-19', 'JJ'), ('airborne', 'JJ'), ('?', '.')],\n",
              " 'covid-19 airborne')"
            ]
          },
          "execution_count": 88,
          "metadata": {},
          "output_type": "execute_result"
        }
      ],
      "source": [
        "get_keyword_from_question(\"is covid-19 airborne?\")"
      ]
    },
    {
      "attachments": {},
      "cell_type": "markdown",
      "metadata": {
        "id": "c20HpGsrnKfE"
      },
      "source": [
        "### Document Retrieval\n",
        "Retrieve all related documents based on question keywords."
      ]
    },
    {
      "attachments": {},
      "cell_type": "markdown",
      "metadata": {},
      "source": [
        "Load previously prepared documents."
      ]
    },
    {
      "cell_type": "code",
      "execution_count": 62,
      "metadata": {
        "colab": {
          "base_uri": "https://localhost:8080/"
        },
        "id": "ezNPvWJ5nORP",
        "outputId": "49bedeca-c2a4-4e38-caf4-9abcd133b29c"
      },
      "outputs": [
        {
          "data": {
            "text/html": [
              "<div>\n",
              "<style scoped>\n",
              "    .dataframe tbody tr th:only-of-type {\n",
              "        vertical-align: middle;\n",
              "    }\n",
              "\n",
              "    .dataframe tbody tr th {\n",
              "        vertical-align: top;\n",
              "    }\n",
              "\n",
              "    .dataframe thead th {\n",
              "        text-align: right;\n",
              "    }\n",
              "</style>\n",
              "<table border=\"1\" class=\"dataframe\">\n",
              "  <thead>\n",
              "    <tr style=\"text-align: right;\">\n",
              "      <th></th>\n",
              "      <th>context</th>\n",
              "      <th>document_id</th>\n",
              "    </tr>\n",
              "  </thead>\n",
              "  <tbody>\n",
              "    <tr>\n",
              "      <th>0</th>\n",
              "      <td>Functional Genetic Variants in DC-SIGNR Are As...</td>\n",
              "      <td>630</td>\n",
              "    </tr>\n",
              "    <tr>\n",
              "      <th>1</th>\n",
              "      <td>Role of S-Palmitoylation on IFITM5 for the Int...</td>\n",
              "      <td>650</td>\n",
              "    </tr>\n",
              "    <tr>\n",
              "      <th>2</th>\n",
              "      <td>First Complete Genome Sequence of a French Bov...</td>\n",
              "      <td>1546</td>\n",
              "    </tr>\n",
              "    <tr>\n",
              "      <th>3</th>\n",
              "      <td>Species‐specific clinical characteristics of h...</td>\n",
              "      <td>1545</td>\n",
              "    </tr>\n",
              "    <tr>\n",
              "      <th>4</th>\n",
              "      <td>One step closer to an experimental infection s...</td>\n",
              "      <td>1552</td>\n",
              "    </tr>\n",
              "  </tbody>\n",
              "</table>\n",
              "</div>"
            ],
            "text/plain": [
              "                                             context  document_id\n",
              "0  Functional Genetic Variants in DC-SIGNR Are As...          630\n",
              "1  Role of S-Palmitoylation on IFITM5 for the Int...          650\n",
              "2  First Complete Genome Sequence of a French Bov...         1546\n",
              "3  Species‐specific clinical characteristics of h...         1545\n",
              "4  One step closer to an experimental infection s...         1552"
            ]
          },
          "execution_count": 62,
          "metadata": {},
          "output_type": "execute_result"
        }
      ],
      "source": [
        "import os\n",
        "import pandas as pd\n",
        "\n",
        "docs_train = pd.read_csv(\"document_complete.csv\")\n",
        "docs_train.head()"
      ]
    },
    {
      "attachments": {},
      "cell_type": "markdown",
      "metadata": {
        "id": "g2I80-vgl71G"
      },
      "source": [
        "Clean up text by removing URLs, citations, and digits."
      ]
    },
    {
      "cell_type": "code",
      "execution_count": 64,
      "metadata": {
        "id": "8bqbU90pmQ1P"
      },
      "outputs": [],
      "source": [
        "def clean_sentence(text: str) -> str:\n",
        "  # clean up string for puctuation, url, etc.\n",
        "  regex_link = (\"((http|https)://)(www.)?\" +\n",
        "            \"[a-zA-Z0-9@:%._\\\\+~#?&//=]\" +\n",
        "            \"{2,256}\\\\.[a-z]\" +\n",
        "            \"{2,6}\\\\b([-a-zA-Z0-9@:%\" +\n",
        "            \"._\\\\+~#?&//=]*)\")\n",
        "  regex_citation = (\"(\\[\\d+-\\d+\\]|\\[\\d+(, \\d+)*\\])\")\n",
        "  regex_digits = \"[0-9]\"\n",
        "\n",
        "  link_regex = re.compile(regex_link)\n",
        "  citation_regex = re.compile(regex_citation)\n",
        "  digits_regex = re.compile(regex_digits)\n",
        "\n",
        "  sentence = text.replace('\\n', \" \")\n",
        "  sentence = link_regex.sub(\" \", sentence)\n",
        "  sentence = citation_regex.sub(\" \", sentence)\n",
        "  sentence = digits_regex.sub(\" \", sentence)\n",
        "\n",
        "  # remove excess space.\n",
        "  sentence_arr = sentence.split()\n",
        "  sentence = \" \".join(sentence_arr)\n",
        "\n",
        "  # lemmatization.\n",
        "  lemmatizer = WordNetLemmatizer()\n",
        "  sentence_lowercase = sentence.lower()\n",
        "  tokens = word_tokenize(sentence_lowercase)\n",
        "  lemmas = [lemmatizer.lemmatize(t) for t in tokens if t not in stopwords.words(\"english\")]\n",
        "  lemmas_str = \" \".join(lemmas)\n",
        "\n",
        "  return lemmas_str\n"
      ]
    },
    {
      "cell_type": "code",
      "execution_count": 90,
      "metadata": {
        "id": "5PAcLE_2mnYT"
      },
      "outputs": [],
      "source": [
        "# docs_clean_train = [clean_data(punc_remove(sentence)) for sentence in docs_train['context']]\n",
        "docs_train_clean = [clean_sentence(text) for text in docs_train[\"context\"]]\n",
        "# docs_train_clean[0:2]\n",
        "docs_train['cleaned_data'] = docs_train_clean\n",
        "document_clean = pd.DataFrame({\n",
        "    \"document_id\": docs_train[\"document_id\"],\n",
        "    \"text\": docs_train_clean\n",
        "})\n",
        "document_clean.to_csv(\"document_clean.csv\", index=False)"
      ]
    },
    {
      "attachments": {},
      "cell_type": "markdown",
      "metadata": {
        "id": "QH2_J5Qpm1Z4"
      },
      "source": [
        "Term frequency-inverse document frequency"
      ]
    },
    {
      "cell_type": "code",
      "execution_count": 92,
      "metadata": {
        "colab": {
          "base_uri": "https://localhost:8080/",
          "height": 253
        },
        "id": "bzoJ7F6Nm4y6",
        "outputId": "1c9d6e85-3bff-4367-c1bb-fe95e37aa938"
      },
      "outputs": [
        {
          "name": "stderr",
          "output_type": "stream",
          "text": [
            "w:\\Research\\natural-language-processing\\.virtualenv\\nlp\\lib\\site-packages\\sklearn\\utils\\deprecation.py:87: FutureWarning: Function get_feature_names is deprecated; get_feature_names is deprecated in 1.0 and will be removed in 1.2. Please use get_feature_names_out instead.\n",
            "  warnings.warn(msg, category=FutureWarning)\n"
          ]
        },
        {
          "data": {
            "text/html": [
              "<div>\n",
              "<style scoped>\n",
              "    .dataframe tbody tr th:only-of-type {\n",
              "        vertical-align: middle;\n",
              "    }\n",
              "\n",
              "    .dataframe tbody tr th {\n",
              "        vertical-align: top;\n",
              "    }\n",
              "\n",
              "    .dataframe thead th {\n",
              "        text-align: right;\n",
              "    }\n",
              "</style>\n",
              "<table border=\"1\" class=\"dataframe\">\n",
              "  <thead>\n",
              "    <tr style=\"text-align: right;\">\n",
              "      <th></th>\n",
              "      <th>aa</th>\n",
              "      <th>ab</th>\n",
              "      <th>ability</th>\n",
              "      <th>able</th>\n",
              "      <th>absence</th>\n",
              "      <th>abstract</th>\n",
              "      <th>abundance</th>\n",
              "      <th>access</th>\n",
              "      <th>accession</th>\n",
              "      <th>accessory</th>\n",
              "      <th>...</th>\n",
              "      <th>zhang</th>\n",
              "      <th>zinc</th>\n",
              "      <th>zm</th>\n",
              "      <th>zone</th>\n",
              "      <th>zoonotic</th>\n",
              "      <th>µl</th>\n",
              "      <th>µm</th>\n",
              "      <th>μg</th>\n",
              "      <th>μl</th>\n",
              "      <th>μm</th>\n",
              "    </tr>\n",
              "  </thead>\n",
              "  <tbody>\n",
              "    <tr>\n",
              "      <th>0</th>\n",
              "      <td>0.019085</td>\n",
              "      <td>0.000000</td>\n",
              "      <td>0.000000</td>\n",
              "      <td>0.00000</td>\n",
              "      <td>0.000000</td>\n",
              "      <td>0.001578</td>\n",
              "      <td>0.005157</td>\n",
              "      <td>0.003987</td>\n",
              "      <td>0.000000</td>\n",
              "      <td>0.0</td>\n",
              "      <td>...</td>\n",
              "      <td>0.0</td>\n",
              "      <td>0.0</td>\n",
              "      <td>0.0</td>\n",
              "      <td>0.0</td>\n",
              "      <td>0.0</td>\n",
              "      <td>0.0</td>\n",
              "      <td>0.0</td>\n",
              "      <td>0.000000</td>\n",
              "      <td>0.0000</td>\n",
              "      <td>0.000000</td>\n",
              "    </tr>\n",
              "    <tr>\n",
              "      <th>1</th>\n",
              "      <td>0.000000</td>\n",
              "      <td>0.000000</td>\n",
              "      <td>0.001572</td>\n",
              "      <td>0.00296</td>\n",
              "      <td>0.027181</td>\n",
              "      <td>0.000841</td>\n",
              "      <td>0.000000</td>\n",
              "      <td>0.000000</td>\n",
              "      <td>0.000000</td>\n",
              "      <td>0.0</td>\n",
              "      <td>...</td>\n",
              "      <td>0.0</td>\n",
              "      <td>0.0</td>\n",
              "      <td>0.0</td>\n",
              "      <td>0.0</td>\n",
              "      <td>0.0</td>\n",
              "      <td>0.0</td>\n",
              "      <td>0.0</td>\n",
              "      <td>0.004999</td>\n",
              "      <td>0.0025</td>\n",
              "      <td>0.007921</td>\n",
              "    </tr>\n",
              "    <tr>\n",
              "      <th>2</th>\n",
              "      <td>0.000000</td>\n",
              "      <td>0.216544</td>\n",
              "      <td>0.000000</td>\n",
              "      <td>0.00000</td>\n",
              "      <td>0.000000</td>\n",
              "      <td>0.016696</td>\n",
              "      <td>0.000000</td>\n",
              "      <td>0.000000</td>\n",
              "      <td>0.283367</td>\n",
              "      <td>0.0</td>\n",
              "      <td>...</td>\n",
              "      <td>0.0</td>\n",
              "      <td>0.0</td>\n",
              "      <td>0.0</td>\n",
              "      <td>0.0</td>\n",
              "      <td>0.0</td>\n",
              "      <td>0.0</td>\n",
              "      <td>0.0</td>\n",
              "      <td>0.000000</td>\n",
              "      <td>0.0000</td>\n",
              "      <td>0.000000</td>\n",
              "    </tr>\n",
              "    <tr>\n",
              "      <th>3</th>\n",
              "      <td>0.000000</td>\n",
              "      <td>0.000000</td>\n",
              "      <td>0.000000</td>\n",
              "      <td>0.00000</td>\n",
              "      <td>0.000000</td>\n",
              "      <td>0.008809</td>\n",
              "      <td>0.000000</td>\n",
              "      <td>0.000000</td>\n",
              "      <td>0.000000</td>\n",
              "      <td>0.0</td>\n",
              "      <td>...</td>\n",
              "      <td>0.0</td>\n",
              "      <td>0.0</td>\n",
              "      <td>0.0</td>\n",
              "      <td>0.0</td>\n",
              "      <td>0.0</td>\n",
              "      <td>0.0</td>\n",
              "      <td>0.0</td>\n",
              "      <td>0.000000</td>\n",
              "      <td>0.0000</td>\n",
              "      <td>0.000000</td>\n",
              "    </tr>\n",
              "    <tr>\n",
              "      <th>4</th>\n",
              "      <td>0.000000</td>\n",
              "      <td>0.000000</td>\n",
              "      <td>0.000000</td>\n",
              "      <td>0.00000</td>\n",
              "      <td>0.000000</td>\n",
              "      <td>0.006085</td>\n",
              "      <td>0.000000</td>\n",
              "      <td>0.000000</td>\n",
              "      <td>0.000000</td>\n",
              "      <td>0.0</td>\n",
              "      <td>...</td>\n",
              "      <td>0.0</td>\n",
              "      <td>0.0</td>\n",
              "      <td>0.0</td>\n",
              "      <td>0.0</td>\n",
              "      <td>0.0</td>\n",
              "      <td>0.0</td>\n",
              "      <td>0.0</td>\n",
              "      <td>0.000000</td>\n",
              "      <td>0.0000</td>\n",
              "      <td>0.000000</td>\n",
              "    </tr>\n",
              "  </tbody>\n",
              "</table>\n",
              "<p>5 rows × 2000 columns</p>\n",
              "</div>"
            ],
            "text/plain": [
              "         aa        ab   ability     able   absence  abstract  abundance  \\\n",
              "0  0.019085  0.000000  0.000000  0.00000  0.000000  0.001578   0.005157   \n",
              "1  0.000000  0.000000  0.001572  0.00296  0.027181  0.000841   0.000000   \n",
              "2  0.000000  0.216544  0.000000  0.00000  0.000000  0.016696   0.000000   \n",
              "3  0.000000  0.000000  0.000000  0.00000  0.000000  0.008809   0.000000   \n",
              "4  0.000000  0.000000  0.000000  0.00000  0.000000  0.006085   0.000000   \n",
              "\n",
              "     access  accession  accessory  ...  zhang  zinc   zm  zone  zoonotic   µl  \\\n",
              "0  0.003987   0.000000        0.0  ...    0.0   0.0  0.0   0.0       0.0  0.0   \n",
              "1  0.000000   0.000000        0.0  ...    0.0   0.0  0.0   0.0       0.0  0.0   \n",
              "2  0.000000   0.283367        0.0  ...    0.0   0.0  0.0   0.0       0.0  0.0   \n",
              "3  0.000000   0.000000        0.0  ...    0.0   0.0  0.0   0.0       0.0  0.0   \n",
              "4  0.000000   0.000000        0.0  ...    0.0   0.0  0.0   0.0       0.0  0.0   \n",
              "\n",
              "    µm        μg      μl        μm  \n",
              "0  0.0  0.000000  0.0000  0.000000  \n",
              "1  0.0  0.004999  0.0025  0.007921  \n",
              "2  0.0  0.000000  0.0000  0.000000  \n",
              "3  0.0  0.000000  0.0000  0.000000  \n",
              "4  0.0  0.000000  0.0000  0.000000  \n",
              "\n",
              "[5 rows x 2000 columns]"
            ]
          },
          "execution_count": 92,
          "metadata": {},
          "output_type": "execute_result"
        }
      ],
      "source": [
        "# load previously saved document.\n",
        "import pandas as pd\n",
        "doc_train = pd.read_csv(\"document_clean.csv\")\n",
        "\n",
        "tfidfvectorizer = TfidfVectorizer(analyzer=\"word\", stop_words= \"english\", max_features=2000)\n",
        "train_text = tfidfvectorizer.fit_transform(doc_train[\"text\"]).toarray()\n",
        "\n",
        "tfidf_df = pd.DataFrame(train_text, columns=tfidfvectorizer.get_feature_names())\n",
        "tfidf_df.head(5)"
      ]
    },
    {
      "cell_type": "code",
      "execution_count": 95,
      "metadata": {},
      "outputs": [],
      "source": [
        "vectors = tfidf_df.values.tolist()\n",
        "doc_train[\"vector\"] = vectors\n",
        "# doc_train.head(5)\n",
        "doc_train.to_csv(\"document_clean_tfidf.csv\", index=False)"
      ]
    },
    {
      "cell_type": "code",
      "execution_count": 115,
      "metadata": {},
      "outputs": [
        {
          "data": {
            "text/plain": [
              "[0.019085058375148987, 0.0, 0.0, 0.0, 0.0, 0.0015778062389107314]"
            ]
          },
          "execution_count": 115,
          "metadata": {},
          "output_type": "execute_result"
        }
      ],
      "source": [
        "def parse_array_literal(array_lit):\n",
        "    array_lit = array_lit.replace(\"[\", \"\")\n",
        "    array_lit = array_lit.replace(\"]\", \"\")\n",
        "    vals = array_lit.split(\",\")\n",
        "    floatvals = [float(a) for a in vals]\n",
        "    return floatvals\n",
        "\n",
        "parse_array_literal('[0.019085058375148987, 0.0, 0.0, 0.0, 0.0, 0.0015778062389107314]')"
      ]
    },
    {
      "cell_type": "code",
      "execution_count": 96,
      "metadata": {},
      "outputs": [
        {
          "data": {
            "text/plain": [
              "['tfidf_vectorizer.pkl']"
            ]
          },
          "execution_count": 96,
          "metadata": {},
          "output_type": "execute_result"
        }
      ],
      "source": [
        "# save tf-df vectorizer instance.\n",
        "from joblib import dump\n",
        "dump(tfidfvectorizer, \"tfidf_vectorizer.pkl\")"
      ]
    },
    {
      "attachments": {},
      "cell_type": "markdown",
      "metadata": {
        "id": "GwuRdAPvnGbk"
      },
      "source": [
        "Document ranking"
      ]
    },
    {
      "cell_type": "code",
      "execution_count": 136,
      "metadata": {
        "id": "u5rgReQsnNbL"
      },
      "outputs": [],
      "source": [
        "import numpy as np\n",
        "\n",
        "def ranking_ir(doc_library, sentence, tfidf_vectorizer, n_rank=10):\n",
        "  query = clean_sentence(sentence)\n",
        "  print(\"input query %s\" % query)\n",
        "\n",
        "  # instantiate and train tf-idf vectorizer.\n",
        "  vector = tfidf_vectorizer.transform([sentence]).toarray()\n",
        "\n",
        "  # ranking documents\n",
        "  doc_candidates = doc_library.copy()\n",
        "  doc_candidates[\"vector\"] = doc_candidates[\"vector\"].apply(lambda x: parse_array_literal(x))\n",
        "  doc_candidates['similarity'] = doc_candidates['vector'].apply(lambda x: cosine_similarity(np.array(vector).reshape(1, -1), np.array(x).reshape(1, -1)).item())\n",
        "  doc_candidates.sort_values(by='similarity',ascending=False,inplace=True)\n",
        "  \n",
        "  return doc_candidates[['document_id','text','similarity']].head(n_rank).reset_index(drop=True)"
      ]
    },
    {
      "attachments": {},
      "cell_type": "markdown",
      "metadata": {
        "id": "ZkKz1hZCo0zC"
      },
      "source": [
        "Find the best document candidates."
      ]
    },
    {
      "cell_type": "code",
      "execution_count": 119,
      "metadata": {
        "colab": {
          "base_uri": "https://localhost:8080/"
        },
        "id": "Zy5UIfQZo4mb",
        "outputId": "7415761d-1b86-49fa-b5e2-7b571398f612"
      },
      "outputs": [
        {
          "name": "stdout",
          "output_type": "stream",
          "text": [
            "Question  :  is covid-19 airborne?\n",
            "POS TAG     : [('is', 'VBZ'), ('covid-19', 'JJ'), ('airborne', 'JJ'), ('?', '.')]\n",
            "Keyword     :  covid-19 airborne\n",
            "covid-19 airborne\n",
            "input query covid- airborne\n"
          ]
        },
        {
          "data": {
            "text/html": [
              "<div>\n",
              "<style scoped>\n",
              "    .dataframe tbody tr th:only-of-type {\n",
              "        vertical-align: middle;\n",
              "    }\n",
              "\n",
              "    .dataframe tbody tr th {\n",
              "        vertical-align: top;\n",
              "    }\n",
              "\n",
              "    .dataframe thead th {\n",
              "        text-align: right;\n",
              "    }\n",
              "</style>\n",
              "<table border=\"1\" class=\"dataframe\">\n",
              "  <thead>\n",
              "    <tr style=\"text-align: right;\">\n",
              "      <th></th>\n",
              "      <th>document_id</th>\n",
              "      <th>text</th>\n",
              "      <th>similarity</th>\n",
              "    </tr>\n",
              "  </thead>\n",
              "  <tbody>\n",
              "    <tr>\n",
              "      <th>0</th>\n",
              "      <td>185</td>\n",
              "      <td>cdc summary mar , rapidly evolving situation c...</td>\n",
              "      <td>0.687228</td>\n",
              "    </tr>\n",
              "    <tr>\n",
              "      <th>1</th>\n",
              "      <td>2450</td>\n",
              "      <td>safe patient transport covid- sha : ec eb bcca...</td>\n",
              "      <td>0.460365</td>\n",
              "    </tr>\n",
              "    <tr>\n",
              "      <th>2</th>\n",
              "      <td>188</td>\n",
              "      <td>battle coronavirus disease ( covid- ) : emerge...</td>\n",
              "      <td>0.397438</td>\n",
              "    </tr>\n",
              "    <tr>\n",
              "      <th>3</th>\n",
              "      <td>1559</td>\n",
              "      <td>covid- smoking : systematic review evidence sh...</td>\n",
              "      <td>0.314975</td>\n",
              "    </tr>\n",
              "    <tr>\n",
              "      <th>4</th>\n",
              "      <td>2522</td>\n",
              "      <td>identification covid- quicker artificial intel...</td>\n",
              "      <td>0.297302</td>\n",
              "    </tr>\n",
              "    <tr>\n",
              "      <th>5</th>\n",
              "      <td>2432</td>\n",
              "      <td>factor associated mental health outcome among ...</td>\n",
              "      <td>0.231897</td>\n",
              "    </tr>\n",
              "    <tr>\n",
              "      <th>6</th>\n",
              "      <td>2642</td>\n",
              "      <td>first case coronavirus disease ( covid- ) euro...</td>\n",
              "      <td>0.201590</td>\n",
              "    </tr>\n",
              "    <tr>\n",
              "      <th>7</th>\n",
              "      <td>2643</td>\n",
              "      <td>responding covid- pandemic complex humanitaria...</td>\n",
              "      <td>0.186667</td>\n",
              "    </tr>\n",
              "    <tr>\n",
              "      <th>8</th>\n",
              "      <td>2440</td>\n",
              "      <td>optimization method forecasting confirmed case...</td>\n",
              "      <td>0.163736</td>\n",
              "    </tr>\n",
              "    <tr>\n",
              "      <th>9</th>\n",
              "      <td>2527</td>\n",
              "      <td>coronavirus ( covid- ) outbreak smart city net...</td>\n",
              "      <td>0.159254</td>\n",
              "    </tr>\n",
              "  </tbody>\n",
              "</table>\n",
              "</div>"
            ],
            "text/plain": [
              "   document_id                                               text  similarity\n",
              "0          185  cdc summary mar , rapidly evolving situation c...    0.687228\n",
              "1         2450  safe patient transport covid- sha : ec eb bcca...    0.460365\n",
              "2          188  battle coronavirus disease ( covid- ) : emerge...    0.397438\n",
              "3         1559  covid- smoking : systematic review evidence sh...    0.314975\n",
              "4         2522  identification covid- quicker artificial intel...    0.297302\n",
              "5         2432  factor associated mental health outcome among ...    0.231897\n",
              "6         2642  first case coronavirus disease ( covid- ) euro...    0.201590\n",
              "7         2643  responding covid- pandemic complex humanitaria...    0.186667\n",
              "8         2440  optimization method forecasting confirmed case...    0.163736\n",
              "9         2527  coronavirus ( covid- ) outbreak smart city net...    0.159254"
            ]
          },
          "execution_count": 119,
          "metadata": {},
          "output_type": "execute_result"
        }
      ],
      "source": [
        "import os\n",
        "import pandas as pd\n",
        "\n",
        "# load document library.\n",
        "doc_lib = pd.read_csv(os.path.join(\"document_clean_tfidf.csv\"))\n",
        "\n",
        "# prepare question and extract its keyword.\n",
        "input_question = \"is covid-19 airborne?\"\n",
        "result = get_keyword_from_question(input_question)\n",
        "question_keyword = result[2]\n",
        "print(question_keyword)\n",
        "\n",
        "# prepare tf-idf vectorizer, either load from existing or train the vectorizer.\n",
        "import joblib\n",
        "# tfidf_vectorizer = TfidfVectorizer(analyzer=\"word\", stop_words=\"english\", max_features=1000)\n",
        "tfidf_vectorizer = joblib.load(\"tfidf_vectorizer.pkl\")\n",
        "ranking_ir(doc_lib, question_keyword, tfidf_vectorizer)\n"
      ]
    },
    {
      "attachments": {},
      "cell_type": "markdown",
      "metadata": {
        "id": "wv5voFBynOty"
      },
      "source": [
        "### Answer Generator"
      ]
    },
    {
      "cell_type": "code",
      "execution_count": 123,
      "metadata": {
        "colab": {
          "base_uri": "https://localhost:8080/",
          "height": 1000,
          "referenced_widgets": [
            "d91e2ab247184ee3963aea32b946be8b",
            "0311f71a5caf4f9b8f0645c8603f6c3d",
            "bbcb42de64ff444ab0d283a735d1269a",
            "eddaa544e09f49b4b579b0bc25dd5dab",
            "fe1328c03a1a4dc5b0370bf1caafea9f",
            "68c21fcf69d241c684b41410aa4aa0a7",
            "329d32a66aaf45759c19dd5c72393a92",
            "1d3ac4a4c175475595711b57f1b61dce",
            "67a77027917241d5a0ff722a4ddf440a",
            "e6ab2df7eafc422fb5e6463fbc4e7196",
            "2952c42b7b024caabf3c440c5592adca",
            "b30d7309fb7e4909bb1eb5cfd0307a43",
            "ac81346db5ba4b8fa89fc7405066b95b",
            "dd338d748c884528bfc47f9f72b7f830",
            "3ff82b7de6ea46bead51203662fbad0c",
            "c05c433bf9e24e3096ed2e1e087453a7",
            "e1100f03c67a43df9c2a22eb41886079",
            "6532c85be2954c37be0481c779c3065c",
            "6bbca9dcd5044425aa15b74bbffcbed8",
            "58233c2a5f764de5976899bff25d2136",
            "fc59f590e49c46ce869f8aa010433d63",
            "baba9f96abf6403ab2ff9a49ff5dd7e7",
            "15e6895b6e954368a5c99b7d329a2d81",
            "6e3434b0efdf45c7b5dc9570c7fede1d",
            "280ecac2c18b46c9992faad0045d8356",
            "c5411d7651e8407ca29fc83f5d3d2855",
            "20896b246a3a4565b896a6e6072270d9",
            "f6b6ba6589b045b492ece9814a41a498",
            "3a7d69b1f94a461baebb0a5ebc02963c",
            "77b5b9e95ff3450c86ca6c5d18edfbc2",
            "d0571398207f49babcce611b92ad8856",
            "665b3d2798cc49deb264be9cf29973bd",
            "bb5d5f12ca9243b7b5ac5c66b6458c90",
            "e757625070f64722818b1e989f0ad1da",
            "559e564018e9434ab733ce67b37d2903",
            "1789f5f3dbf74999a9945fa0506c5863",
            "c3f9b5456a284bb28f4f489de7396e0e",
            "097be87cbf2b424aa4b0d40f9209286f",
            "26dd96f303814df7bad6d21d8f6461ed",
            "43fb475a9efa46bbbcad0e7ac6e92198"
          ]
        },
        "collapsed": true,
        "id": "cG2sIdUdnoLk",
        "outputId": "915a050e-9a0f-46a8-8c38-36d139d10c02"
      },
      "outputs": [
        {
          "name": "stderr",
          "output_type": "stream",
          "text": [
            "You are using a model of type distilbert to instantiate a model of type bert. This is not supported for all configurations of models and can yield errors.\n",
            "Some weights of the model checkpoint at distilbert-base-uncased were not used when initializing BertModel: ['distilbert.transformer.layer.1.attention.out_lin.weight', 'distilbert.transformer.layer.5.attention.v_lin.bias', 'distilbert.transformer.layer.5.attention.k_lin.weight', 'distilbert.transformer.layer.0.output_layer_norm.bias', 'distilbert.transformer.layer.2.attention.v_lin.weight', 'distilbert.transformer.layer.2.attention.k_lin.bias', 'distilbert.transformer.layer.0.ffn.lin1.weight', 'distilbert.transformer.layer.3.attention.k_lin.bias', 'distilbert.transformer.layer.0.attention.v_lin.bias', 'distilbert.transformer.layer.5.output_layer_norm.weight', 'distilbert.transformer.layer.4.sa_layer_norm.weight', 'distilbert.transformer.layer.0.sa_layer_norm.weight', 'distilbert.transformer.layer.4.attention.v_lin.bias', 'distilbert.transformer.layer.2.sa_layer_norm.weight', 'distilbert.transformer.layer.2.ffn.lin1.weight', 'distilbert.transformer.layer.5.ffn.lin2.weight', 'distilbert.transformer.layer.3.ffn.lin2.weight', 'distilbert.transformer.layer.4.ffn.lin1.weight', 'distilbert.transformer.layer.2.ffn.lin2.weight', 'distilbert.transformer.layer.5.attention.q_lin.weight', 'distilbert.transformer.layer.3.ffn.lin2.bias', 'distilbert.transformer.layer.1.ffn.lin1.bias', 'distilbert.transformer.layer.2.output_layer_norm.bias', 'vocab_layer_norm.bias', 'distilbert.transformer.layer.4.ffn.lin2.bias', 'distilbert.transformer.layer.5.sa_layer_norm.weight', 'distilbert.transformer.layer.5.ffn.lin1.bias', 'distilbert.transformer.layer.0.attention.out_lin.bias', 'distilbert.transformer.layer.2.sa_layer_norm.bias', 'distilbert.transformer.layer.4.attention.q_lin.weight', 'distilbert.transformer.layer.0.output_layer_norm.weight', 'distilbert.transformer.layer.0.attention.k_lin.weight', 'distilbert.transformer.layer.1.attention.k_lin.weight', 'distilbert.transformer.layer.3.output_layer_norm.weight', 'distilbert.transformer.layer.2.attention.out_lin.weight', 'distilbert.transformer.layer.3.sa_layer_norm.weight', 'distilbert.transformer.layer.4.output_layer_norm.weight', 'distilbert.transformer.layer.2.output_layer_norm.weight', 'distilbert.transformer.layer.5.sa_layer_norm.bias', 'distilbert.transformer.layer.3.attention.v_lin.bias', 'distilbert.transformer.layer.3.attention.q_lin.bias', 'distilbert.transformer.layer.3.sa_layer_norm.bias', 'distilbert.transformer.layer.1.attention.v_lin.bias', 'distilbert.embeddings.LayerNorm.weight', 'distilbert.transformer.layer.3.ffn.lin1.bias', 'distilbert.transformer.layer.1.output_layer_norm.bias', 'distilbert.transformer.layer.0.sa_layer_norm.bias', 'distilbert.transformer.layer.0.attention.q_lin.weight', 'distilbert.transformer.layer.0.ffn.lin2.bias', 'distilbert.transformer.layer.5.attention.v_lin.weight', 'distilbert.transformer.layer.0.attention.v_lin.weight', 'distilbert.transformer.layer.2.attention.out_lin.bias', 'distilbert.transformer.layer.2.ffn.lin2.bias', 'distilbert.transformer.layer.1.attention.v_lin.weight', 'distilbert.transformer.layer.0.ffn.lin1.bias', 'vocab_projector.bias', 'distilbert.transformer.layer.4.ffn.lin1.bias', 'distilbert.transformer.layer.5.ffn.lin2.bias', 'distilbert.embeddings.position_embeddings.weight', 'distilbert.transformer.layer.4.sa_layer_norm.bias', 'distilbert.transformer.layer.1.ffn.lin2.bias', 'distilbert.transformer.layer.1.sa_layer_norm.bias', 'distilbert.transformer.layer.2.attention.v_lin.bias', 'distilbert.transformer.layer.1.attention.q_lin.weight', 'distilbert.transformer.layer.3.ffn.lin1.weight', 'distilbert.transformer.layer.2.attention.q_lin.weight', 'distilbert.transformer.layer.1.attention.out_lin.bias', 'distilbert.transformer.layer.5.attention.out_lin.weight', 'distilbert.transformer.layer.5.attention.q_lin.bias', 'distilbert.transformer.layer.1.attention.k_lin.bias', 'distilbert.transformer.layer.3.attention.q_lin.weight', 'vocab_transform.weight', 'distilbert.transformer.layer.4.attention.out_lin.weight', 'distilbert.transformer.layer.3.output_layer_norm.bias', 'distilbert.embeddings.LayerNorm.bias', 'distilbert.transformer.layer.0.attention.k_lin.bias', 'distilbert.transformer.layer.3.attention.out_lin.weight', 'vocab_transform.bias', 'distilbert.transformer.layer.0.ffn.lin2.weight', 'distilbert.transformer.layer.4.attention.k_lin.bias', 'distilbert.transformer.layer.4.attention.k_lin.weight', 'distilbert.transformer.layer.4.ffn.lin2.weight', 'distilbert.transformer.layer.2.attention.q_lin.bias', 'distilbert.transformer.layer.5.output_layer_norm.bias', 'distilbert.transformer.layer.5.attention.k_lin.bias', 'distilbert.transformer.layer.2.ffn.lin1.bias', 'distilbert.transformer.layer.4.output_layer_norm.bias', 'distilbert.transformer.layer.3.attention.k_lin.weight', 'distilbert.transformer.layer.1.output_layer_norm.weight', 'distilbert.transformer.layer.2.attention.k_lin.weight', 'distilbert.transformer.layer.4.attention.v_lin.weight', 'distilbert.transformer.layer.0.attention.out_lin.weight', 'vocab_layer_norm.weight', 'distilbert.transformer.layer.3.attention.out_lin.bias', 'distilbert.transformer.layer.1.ffn.lin2.weight', 'distilbert.transformer.layer.0.attention.q_lin.bias', 'vocab_projector.weight', 'distilbert.transformer.layer.1.ffn.lin1.weight', 'distilbert.transformer.layer.4.attention.q_lin.bias', 'distilbert.transformer.layer.5.attention.out_lin.bias', 'distilbert.transformer.layer.1.attention.q_lin.bias', 'distilbert.transformer.layer.5.ffn.lin1.weight', 'distilbert.transformer.layer.4.attention.out_lin.bias', 'distilbert.transformer.layer.3.attention.v_lin.weight', 'distilbert.embeddings.word_embeddings.weight', 'distilbert.transformer.layer.1.sa_layer_norm.weight']\n",
            "- This IS expected if you are initializing BertModel from the checkpoint of a model trained on another task or with another architecture (e.g. initializing a BertForSequenceClassification model from a BertForPreTraining model).\n",
            "- This IS NOT expected if you are initializing BertModel from the checkpoint of a model that you expect to be exactly identical (initializing a BertForSequenceClassification model from a BertForSequenceClassification model).\n",
            "Some weights of BertModel were not initialized from the model checkpoint at distilbert-base-uncased and are newly initialized: ['encoder.layer.7.output.LayerNorm.bias', 'encoder.layer.7.attention.self.key.weight', 'encoder.layer.8.output.dense.weight', 'encoder.layer.5.intermediate.dense.weight', 'encoder.layer.4.attention.self.query.weight', 'encoder.layer.2.attention.output.LayerNorm.weight', 'encoder.layer.2.output.dense.weight', 'encoder.layer.3.attention.self.value.weight', 'encoder.layer.5.output.dense.weight', 'encoder.layer.9.output.LayerNorm.bias', 'encoder.layer.11.attention.output.dense.bias', 'pooler.dense.bias', 'encoder.layer.10.output.dense.weight', 'encoder.layer.0.attention.output.LayerNorm.weight', 'encoder.layer.3.output.LayerNorm.weight', 'encoder.layer.6.attention.output.dense.bias', 'encoder.layer.10.intermediate.dense.bias', 'encoder.layer.3.output.dense.bias', 'encoder.layer.10.intermediate.dense.weight', 'encoder.layer.7.attention.output.LayerNorm.bias', 'encoder.layer.1.output.dense.weight', 'encoder.layer.6.attention.self.value.bias', 'encoder.layer.3.attention.self.key.bias', 'encoder.layer.6.attention.output.LayerNorm.weight', 'encoder.layer.6.intermediate.dense.weight', 'encoder.layer.1.attention.self.key.bias', 'encoder.layer.9.attention.output.dense.weight', 'encoder.layer.1.intermediate.dense.bias', 'encoder.layer.2.attention.self.key.bias', 'encoder.layer.5.attention.output.LayerNorm.weight', 'encoder.layer.5.output.LayerNorm.bias', 'encoder.layer.9.attention.self.key.weight', 'encoder.layer.7.intermediate.dense.weight', 'encoder.layer.1.attention.self.key.weight', 'encoder.layer.1.output.LayerNorm.weight', 'encoder.layer.3.output.dense.weight', 'encoder.layer.0.attention.self.value.bias', 'encoder.layer.10.attention.self.key.weight', 'encoder.layer.8.attention.self.query.weight', 'encoder.layer.7.attention.self.value.bias', 'encoder.layer.0.attention.self.key.weight', 'encoder.layer.0.output.LayerNorm.bias', 'encoder.layer.4.attention.self.value.weight', 'encoder.layer.4.attention.output.LayerNorm.bias', 'encoder.layer.4.output.LayerNorm.weight', 'encoder.layer.5.attention.self.query.bias', 'encoder.layer.11.output.LayerNorm.bias', 'encoder.layer.8.attention.output.dense.bias', 'encoder.layer.4.output.dense.bias', 'encoder.layer.6.attention.output.dense.weight', 'encoder.layer.10.attention.output.LayerNorm.bias', 'encoder.layer.7.attention.self.key.bias', 'encoder.layer.8.output.LayerNorm.bias', 'encoder.layer.1.attention.self.query.bias', 'encoder.layer.2.intermediate.dense.bias', 'encoder.layer.0.intermediate.dense.bias', 'encoder.layer.9.attention.self.query.weight', 'encoder.layer.2.attention.output.LayerNorm.bias', 'encoder.layer.5.attention.output.dense.bias', 'encoder.layer.3.attention.self.value.bias', 'encoder.layer.1.attention.self.value.weight', 'encoder.layer.2.attention.output.dense.bias', 'encoder.layer.10.attention.self.value.weight', 'encoder.layer.3.attention.self.query.bias', 'encoder.layer.2.attention.self.value.bias', 'encoder.layer.10.attention.output.dense.weight', 'encoder.layer.11.attention.self.value.weight', 'encoder.layer.8.output.LayerNorm.weight', 'encoder.layer.2.output.dense.bias', 'encoder.layer.4.attention.self.value.bias', 'embeddings.token_type_embeddings.weight', 'encoder.layer.9.attention.self.value.bias', 'encoder.layer.1.attention.self.query.weight', 'encoder.layer.7.attention.output.LayerNorm.weight', 'encoder.layer.4.intermediate.dense.bias', 'encoder.layer.6.output.LayerNorm.bias', 'encoder.layer.9.attention.output.LayerNorm.weight', 'encoder.layer.2.intermediate.dense.weight', 'encoder.layer.8.intermediate.dense.weight', 'encoder.layer.11.attention.output.LayerNorm.bias', 'encoder.layer.0.attention.output.dense.weight', 'encoder.layer.8.attention.output.dense.weight', 'embeddings.LayerNorm.bias', 'encoder.layer.1.attention.output.dense.bias', 'encoder.layer.11.intermediate.dense.weight', 'encoder.layer.5.intermediate.dense.bias', 'encoder.layer.6.intermediate.dense.bias', 'encoder.layer.7.attention.self.query.bias', 'encoder.layer.2.output.LayerNorm.weight', 'encoder.layer.7.intermediate.dense.bias', 'encoder.layer.1.attention.self.value.bias', 'encoder.layer.7.attention.output.dense.bias', 'encoder.layer.2.attention.self.query.weight', 'encoder.layer.5.attention.self.value.weight', 'encoder.layer.8.attention.self.value.weight', 'encoder.layer.2.output.LayerNorm.bias', 'encoder.layer.9.output.dense.bias', 'encoder.layer.4.attention.self.query.bias', 'encoder.layer.10.attention.self.query.weight', 'encoder.layer.11.attention.self.value.bias', 'encoder.layer.11.output.dense.weight', 'encoder.layer.7.attention.output.dense.weight', 'encoder.layer.10.attention.self.value.bias', 'encoder.layer.8.attention.output.LayerNorm.bias', 'encoder.layer.4.output.dense.weight', 'encoder.layer.10.attention.self.key.bias', 'encoder.layer.10.output.LayerNorm.weight', 'encoder.layer.5.attention.self.query.weight', 'encoder.layer.1.output.dense.bias', 'encoder.layer.11.attention.output.LayerNorm.weight', 'encoder.layer.4.attention.output.dense.bias', 'encoder.layer.2.attention.self.query.bias', 'encoder.layer.2.attention.self.key.weight', 'encoder.layer.8.output.dense.bias', 'encoder.layer.10.output.LayerNorm.bias', 'pooler.dense.weight', 'encoder.layer.3.attention.self.key.weight', 'encoder.layer.8.intermediate.dense.bias', 'encoder.layer.11.attention.self.key.bias', 'encoder.layer.6.attention.self.key.bias', 'encoder.layer.7.output.dense.weight', 'encoder.layer.4.intermediate.dense.weight', 'encoder.layer.10.output.dense.bias', 'encoder.layer.11.intermediate.dense.bias', 'encoder.layer.9.attention.output.LayerNorm.bias', 'embeddings.position_embeddings.weight', 'encoder.layer.3.attention.output.LayerNorm.weight', 'encoder.layer.7.output.dense.bias', 'encoder.layer.7.attention.self.value.weight', 'encoder.layer.3.attention.output.dense.bias', 'encoder.layer.11.attention.self.key.weight', 'encoder.layer.9.intermediate.dense.weight', 'encoder.layer.6.output.LayerNorm.weight', 'encoder.layer.3.attention.output.LayerNorm.bias', 'encoder.layer.3.intermediate.dense.bias', 'encoder.layer.6.attention.self.query.bias', 'encoder.layer.1.output.LayerNorm.bias', 'encoder.layer.6.attention.output.LayerNorm.bias', 'encoder.layer.5.attention.self.value.bias', 'encoder.layer.6.attention.self.value.weight', 'encoder.layer.8.attention.self.value.bias', 'encoder.layer.9.attention.output.dense.bias', 'encoder.layer.9.output.LayerNorm.weight', 'encoder.layer.5.attention.output.LayerNorm.bias', 'encoder.layer.0.intermediate.dense.weight', 'encoder.layer.9.attention.self.value.weight', 'encoder.layer.0.attention.self.query.weight', 'encoder.layer.2.attention.self.value.weight', 'encoder.layer.1.intermediate.dense.weight', 'encoder.layer.1.attention.output.LayerNorm.weight', 'encoder.layer.11.attention.self.query.bias', 'encoder.layer.3.intermediate.dense.weight', 'encoder.layer.1.attention.output.LayerNorm.bias', 'encoder.layer.0.attention.self.key.bias', 'encoder.layer.10.attention.output.dense.bias', 'encoder.layer.11.attention.output.dense.weight', 'encoder.layer.10.attention.output.LayerNorm.weight', 'encoder.layer.0.attention.output.dense.bias', 'encoder.layer.5.output.dense.bias', 'encoder.layer.11.output.dense.bias', 'encoder.layer.4.attention.self.key.weight', 'encoder.layer.4.attention.output.LayerNorm.weight', 'encoder.layer.1.attention.output.dense.weight', 'encoder.layer.5.attention.self.key.bias', 'encoder.layer.6.attention.self.query.weight', 'encoder.layer.4.output.LayerNorm.bias', 'encoder.layer.9.attention.self.key.bias', 'embeddings.word_embeddings.weight', 'encoder.layer.0.output.dense.bias', 'encoder.layer.10.attention.self.query.bias', 'encoder.layer.6.output.dense.bias', 'encoder.layer.9.intermediate.dense.bias', 'encoder.layer.8.attention.output.LayerNorm.weight', 'encoder.layer.6.output.dense.weight', 'encoder.layer.0.output.LayerNorm.weight', 'encoder.layer.3.output.LayerNorm.bias', 'encoder.layer.3.attention.output.dense.weight', 'encoder.layer.0.attention.self.value.weight', 'encoder.layer.5.attention.self.key.weight', 'encoder.layer.0.attention.output.LayerNorm.bias', 'encoder.layer.7.attention.self.query.weight', 'encoder.layer.5.output.LayerNorm.weight', 'encoder.layer.5.attention.output.dense.weight', 'encoder.layer.4.attention.self.key.bias', 'encoder.layer.8.attention.self.key.weight', 'encoder.layer.4.attention.output.dense.weight', 'encoder.layer.9.attention.self.query.bias', 'encoder.layer.8.attention.self.query.bias', 'encoder.layer.3.attention.self.query.weight', 'encoder.layer.9.output.dense.weight', 'encoder.layer.0.output.dense.weight', 'encoder.layer.2.attention.output.dense.weight', 'encoder.layer.6.attention.self.key.weight', 'encoder.layer.0.attention.self.query.bias', 'encoder.layer.11.output.LayerNorm.weight', 'embeddings.LayerNorm.weight', 'encoder.layer.11.attention.self.query.weight', 'encoder.layer.8.attention.self.key.bias', 'encoder.layer.7.output.LayerNorm.weight']\n",
            "You should probably TRAIN this model on a down-stream task to be able to use it for predictions and inference.\n"
          ]
        }
      ],
      "source": [
        "# download model and tokenizer if not exists.\n",
        "from transformers import BertTokenizer, BertModel\n",
        "tokenizer = None\n",
        "model = None\n",
        "tokenizer_path = os.path.join('tokenizer', 'distilbert-base-uncased/')\n",
        "if os.path.exists(tokenizer_path):\n",
        "    tokenizer = BertTokenizer.from_pretrained(tokenizer_path, padding=True, truncation=True, max_length=32)\n",
        "else:\n",
        "    tokenizer = BertTokenizer.from_pretrained('distilbert-base-uncased', padding=True, truncation=True, max_length=32)\n",
        "    tokenizer.save_pretrained(tokenizer_path)\n",
        "\n",
        "model_path = os.path.join('model', 'distilbert-base-uncased')\n",
        "if os.path.exists(model_path):\n",
        "    model = BertModel.from_pretrained(model_path, output_hidden_states=True)\n",
        "else:\n",
        "    model = BertModel.from_pretrained('distilbert-base-uncased', output_hidden_states=True)\n",
        "    model.save_pretrained(os.path.join('model', 'distilbert-base-uncased/'))\n",
        "    model.eval()"
      ]
    },
    {
      "cell_type": "code",
      "execution_count": 124,
      "metadata": {
        "id": "2xJiNf06c_N4"
      },
      "outputs": [],
      "source": [
        "# Return vector representing question.\n",
        "# param question - a question/sentence : string\n",
        "# return tensor representing question/sentence\n",
        "def get_sentence_vector(question):\n",
        "  marked_question = ' [CLS] ' + question + ' [SEP] '\n",
        "  tokenized_question = tokenizer.tokenize(marked_question)\n",
        "  indexed_question = tokenizer.convert_tokens_to_ids(tokenized_question)\n",
        "  segment_ids = [1] * len(tokenized_question)\n",
        "  question_tensor = torch.tensor([indexed_question])\n",
        "  segment_ids_tensor = torch.tensor([segment_ids])\n",
        "\n",
        "  # Eval the model.\n",
        "  outputs = []\n",
        "  with torch.no_grad():\n",
        "    outputs = model(question_tensor, segment_ids_tensor)\n",
        "\n",
        "  # Extract hidden states.\n",
        "  hidden_states = outputs[2]\n",
        "  token_embeddings = torch.stack(hidden_states, dim=0)\n",
        "  token_embeddings = torch.squeeze(token_embeddings, dim=1)\n",
        "  \n",
        "  # Extract last four layers to get word embeddings for current question.\n",
        "  question_vectors = []\n",
        "  for token in token_embeddings:\n",
        "    # token[i] means token representation from hidden states i-th layer.\n",
        "    cat_vectors = torch.cat((token[-1], token[-2], token[-3]))\n",
        "    question_vectors.append(cat_vectors)\n",
        "\n",
        "  tensor_stack = torch.stack(question_vectors)\n",
        "  return tensor_stack"
      ]
    },
    {
      "cell_type": "code",
      "execution_count": 125,
      "metadata": {
        "id": "iHEgDt9TdC_u"
      },
      "outputs": [],
      "source": [
        "# Calculate similarity\n",
        "# param s1, s2 - sentence in tensor representation\n",
        "# return score\n",
        "def calculate_similarity_BERT(t1: torch.Tensor, t2: torch.Tensor, dim=1):\n",
        "  # s1 = get_sentence_vector(s1)\n",
        "  # s2 = get_sentence_vector(s2)\n",
        "  cos = torch.nn.CosineSimilarity(dim=dim, eps=1e-6)\n",
        "  tensor_score = cos(t1, t2)\n",
        "  average_score = torch.mean(tensor_score)\n",
        "  return average_score"
      ]
    },
    {
      "cell_type": "code",
      "execution_count": 190,
      "metadata": {},
      "outputs": [],
      "source": [
        "def find_expected_answer_with_keyword(query, dataset):\n",
        "  dataset = dataset.reset_index()\n",
        "  question_list = dataset[\"question\"].tolist()\n",
        "  similarity_scores = [calculate_similarity_BERT(\n",
        "      get_sentence_vector(get_keyword_from_question(query)[2]),\n",
        "      get_sentence_vector(get_keyword_from_question(q)[2])\n",
        "  ) for q in question_list]\n",
        "  best_score = max(similarity_scores)\n",
        "  idx = similarity_scores.index(best_score)\n",
        "  expected_question = dataset.loc[idx][\"question\"]\n",
        "  expected_answer = dataset.loc[idx][\"answer_text\"]\n",
        "  return expected_question, expected_answer, best_score.item()\n"
      ]
    },
    {
      "cell_type": "code",
      "execution_count": 191,
      "metadata": {},
      "outputs": [
        {
          "name": "stdout",
          "output_type": "stream",
          "text": [
            "What is the role of C-C Motif Chemokine Ligand 3 Like 1 (CCL3L1) in mother to child transmission of HIV-1? High copy numbers of CCL3L1, a potent HIV-1 suppressive ligand for CCR5, are associated with higher chemokine production and lower risk of MTCT of HIV-1 among South African infants 0.6540467739105225\n"
          ]
        }
      ],
      "source": [
        "# Test answer finder function.\n",
        "\n",
        "import pandas as pd\n",
        "import os\n",
        "\n",
        "doc_lib = pd.read_csv(\"document_raw.csv\")\n",
        "doc_samples = doc_lib.head(10)\n",
        "q, a, b = find_expected_answer_with_keyword(\"what is covid-19\", doc_samples)\n",
        "print(q, a, b)"
      ]
    },
    {
      "attachments": {},
      "cell_type": "markdown",
      "metadata": {
        "id": "T-hEDhmodPvm"
      },
      "source": [
        "### Integration"
      ]
    },
    {
      "cell_type": "code",
      "execution_count": null,
      "metadata": {
        "id": "WLwC_-jXjtZ4"
      },
      "outputs": [],
      "source": [
        "# Sample questions.\n",
        "questions = ['what is causing HIV in children?', 'what is MERS-CoV?', 'How to treat COVID19?', 'What causes the outbreak of SARS and MERS?']\n",
        "# keywords = [extract_keyword(pos_tag(word_tokenize(q))) for q in questions]\n",
        "keywords_tuples = [get_keyword_from_question(q) for q in questions]\n",
        "keywords = [a[2] for a in keywords_tuples]\n",
        "keywords"
      ]
    },
    {
      "cell_type": "code",
      "execution_count": 137,
      "metadata": {
        "colab": {
          "base_uri": "https://localhost:8080/"
        },
        "id": "H-_lhRl7M-AW",
        "outputId": "2973d8c8-169a-4a5f-9717-b8ce67d7328e"
      },
      "outputs": [
        {
          "name": "stdout",
          "output_type": "stream",
          "text": [
            "input query causing hiv child ?\n",
            "input query mers-cov ?\n",
            "input query treat covid ?\n",
            "input query cause outbreak sars mers ?\n"
          ]
        },
        {
          "data": {
            "text/plain": [
              "[   document_id                                               text  similarity\n",
              " 0         1580  isothermal amplification using chemical heatin...    0.277293\n",
              " 1          630  functional genetic variant dc-signr associated...    0.228400\n",
              " 2         1656  improved pharmacological structural property h...    0.149732\n",
              " 3         1686  nucleolar protein trafficking response hiv- ta...    0.135041\n",
              " 4         1730  architectural insight inovirus-associated vect...    0.128037,\n",
              "    document_id                                               text  similarity\n",
              " 0         1741  mers coronavirus : diagnostics , epidemiology ...    0.791921\n",
              " 1         1671  host resilience emerging coronaviruses sha : f...    0.622524\n",
              " 2         1551  demographic variation mers-cov infection among...    0.554982\n",
              " 3         2459  credible evidence supporting claim laboratory ...    0.414739\n",
              " 4         2486  potential rapid diagnostics , vaccine therapeu...    0.411049,\n",
              "    document_id                                               text  similarity\n",
              " 0         1561  acute hemorrhagic encephalitis responding comb...    0.039053\n",
              " 1         2439  hydroxychloroquine , le toxic derivative chlor...    0.038097\n",
              " 2         1714  overview rd isirv-antiviral group conference –...    0.026897\n",
              " 3         1671  host resilience emerging coronaviruses sha : f...    0.025335\n",
              " 4          185  cdc summary mar , rapidly evolving situation c...    0.023891,\n",
              "    document_id                                               text  similarity\n",
              " 0         1741  mers coronavirus : diagnostics , epidemiology ...    0.528268\n",
              " 1         1671  host resilience emerging coronaviruses sha : f...    0.377408\n",
              " 2         2551  potential maternal infant outcome ( wuhan ) co...    0.372682\n",
              " 3         2486  potential rapid diagnostics , vaccine therapeu...    0.350930\n",
              " 4         1551  demographic variation mers-cov infection among...    0.319079]"
            ]
          },
          "execution_count": 137,
          "metadata": {},
          "output_type": "execute_result"
        }
      ],
      "source": [
        "# find document candidates according to questions.\n",
        "import pandas as pd\n",
        "import os\n",
        "import joblib\n",
        "\n",
        "tfidf_vectorizer = joblib.load(os.path.join(\"tfidf_vectorizer.pkl\"))\n",
        "questions = ['what is causing HIV in children?', 'what is MERS-CoV?', 'How to treat COVID19?', 'What causes the outbreak of SARS and MERS?']\n",
        "doc_candidates = [ranking_ir(doc_lib, sent, tfidf_vectorizer, n_rank=5) for sent in questions]\n",
        "doc_candidates\n"
      ]
    },
    {
      "cell_type": "code",
      "execution_count": 195,
      "metadata": {
        "colab": {
          "base_uri": "https://localhost:8080/",
          "height": 204
        },
        "id": "y6Nw1pllF9wC",
        "outputId": "e78f081f-9c94-47b9-ff29-25db2d270d6b"
      },
      "outputs": [
        {
          "name": "stdout",
          "output_type": "stream",
          "text": [
            "question    What percentage of patients do not return for ...\n",
            "answer                                              35 to 50%\n",
            "score                                                0.641516\n",
            "Name: 0, dtype: object\n",
            "question    What are recommended when URT sampling is to  ...\n",
            "answer       an oropharyngeal and throat swab or a nasopha...\n",
            "score                                                0.822367\n",
            "Name: 0, dtype: object\n",
            "question         What is RANBP2?\n",
            "answer      nuclear pore protein\n",
            "score                   0.812116\n",
            "Name: 0, dtype: object\n",
            "question    What symptoms appear among the  confirmed case...\n",
            "answer      fever, cough and upper respiratory tract (URT)...\n",
            "score                                                0.988275\n",
            "Name: 0, dtype: object\n"
          ]
        }
      ],
      "source": [
        "# find answers.\n",
        "import pandas as pd\n",
        "import os\n",
        "\n",
        "doc_lib = pd.read_csv(\"document_raw.csv\")\n",
        "for i in range(len(questions)):\n",
        "    document_ids = doc_candidates[i][\"document_id\"].values.tolist()\n",
        "    qa_candidates = []\n",
        "    for doc_id in document_ids:\n",
        "        selected_doc = doc_lib[doc_lib[\"document_id\"] == doc_id]\n",
        "        q, a, b = find_expected_answer_with_keyword(questions[i], selected_doc)\n",
        "        qa_candidates.append([q, a, b])\n",
        "    qa_df = pd.DataFrame(qa_candidates, columns=[\"question\", \"answer\", \"score\"])\n",
        "    sorted = qa_df.sort_values(by=[\"score\"])\n",
        "    print(qa_df.loc[0])\n"
      ]
    }
  ],
  "metadata": {
    "colab": {
      "provenance": []
    },
    "kernelspec": {
      "display_name": "Python 3",
      "name": "python3"
    },
    "language_info": {
      "codemirror_mode": {
        "name": "ipython",
        "version": 3
      },
      "file_extension": ".py",
      "mimetype": "text/x-python",
      "name": "python",
      "nbconvert_exporter": "python",
      "pygments_lexer": "ipython3",
      "version": "3.7.9"
    },
    "widgets": {
      "application/vnd.jupyter.widget-state+json": {
        "0311f71a5caf4f9b8f0645c8603f6c3d": {
          "model_module": "@jupyter-widgets/base",
          "model_module_version": "1.2.0",
          "model_name": "LayoutModel",
          "state": {
            "_model_module": "@jupyter-widgets/base",
            "_model_module_version": "1.2.0",
            "_model_name": "LayoutModel",
            "_view_count": null,
            "_view_module": "@jupyter-widgets/base",
            "_view_module_version": "1.2.0",
            "_view_name": "LayoutView",
            "align_content": null,
            "align_items": null,
            "align_self": null,
            "border": null,
            "bottom": null,
            "display": null,
            "flex": null,
            "flex_flow": null,
            "grid_area": null,
            "grid_auto_columns": null,
            "grid_auto_flow": null,
            "grid_auto_rows": null,
            "grid_column": null,
            "grid_gap": null,
            "grid_row": null,
            "grid_template_areas": null,
            "grid_template_columns": null,
            "grid_template_rows": null,
            "height": null,
            "justify_content": null,
            "justify_items": null,
            "left": null,
            "margin": null,
            "max_height": null,
            "max_width": null,
            "min_height": null,
            "min_width": null,
            "object_fit": null,
            "object_position": null,
            "order": null,
            "overflow": null,
            "overflow_x": null,
            "overflow_y": null,
            "padding": null,
            "right": null,
            "top": null,
            "visibility": null,
            "width": null
          }
        },
        "097be87cbf2b424aa4b0d40f9209286f": {
          "model_module": "@jupyter-widgets/base",
          "model_module_version": "1.2.0",
          "model_name": "LayoutModel",
          "state": {
            "_model_module": "@jupyter-widgets/base",
            "_model_module_version": "1.2.0",
            "_model_name": "LayoutModel",
            "_view_count": null,
            "_view_module": "@jupyter-widgets/base",
            "_view_module_version": "1.2.0",
            "_view_name": "LayoutView",
            "align_content": null,
            "align_items": null,
            "align_self": null,
            "border": null,
            "bottom": null,
            "display": null,
            "flex": null,
            "flex_flow": null,
            "grid_area": null,
            "grid_auto_columns": null,
            "grid_auto_flow": null,
            "grid_auto_rows": null,
            "grid_column": null,
            "grid_gap": null,
            "grid_row": null,
            "grid_template_areas": null,
            "grid_template_columns": null,
            "grid_template_rows": null,
            "height": null,
            "justify_content": null,
            "justify_items": null,
            "left": null,
            "margin": null,
            "max_height": null,
            "max_width": null,
            "min_height": null,
            "min_width": null,
            "object_fit": null,
            "object_position": null,
            "order": null,
            "overflow": null,
            "overflow_x": null,
            "overflow_y": null,
            "padding": null,
            "right": null,
            "top": null,
            "visibility": null,
            "width": null
          }
        },
        "15e6895b6e954368a5c99b7d329a2d81": {
          "model_module": "@jupyter-widgets/controls",
          "model_module_version": "1.5.0",
          "model_name": "DescriptionStyleModel",
          "state": {
            "_model_module": "@jupyter-widgets/controls",
            "_model_module_version": "1.5.0",
            "_model_name": "DescriptionStyleModel",
            "_view_count": null,
            "_view_module": "@jupyter-widgets/base",
            "_view_module_version": "1.2.0",
            "_view_name": "StyleView",
            "description_width": ""
          }
        },
        "1789f5f3dbf74999a9945fa0506c5863": {
          "model_module": "@jupyter-widgets/controls",
          "model_module_version": "1.5.0",
          "model_name": "HTMLModel",
          "state": {
            "_dom_classes": [],
            "_model_module": "@jupyter-widgets/controls",
            "_model_module_version": "1.5.0",
            "_model_name": "HTMLModel",
            "_view_count": null,
            "_view_module": "@jupyter-widgets/controls",
            "_view_module_version": "1.5.0",
            "_view_name": "HTMLView",
            "description": "",
            "description_tooltip": null,
            "layout": "IPY_MODEL_43fb475a9efa46bbbcad0e7ac6e92198",
            "placeholder": "​",
            "style": "IPY_MODEL_26dd96f303814df7bad6d21d8f6461ed",
            "value": " 268M/268M [00:51&lt;00:00, 5.23MB/s]"
          }
        },
        "1d3ac4a4c175475595711b57f1b61dce": {
          "model_module": "@jupyter-widgets/base",
          "model_module_version": "1.2.0",
          "model_name": "LayoutModel",
          "state": {
            "_model_module": "@jupyter-widgets/base",
            "_model_module_version": "1.2.0",
            "_model_name": "LayoutModel",
            "_view_count": null,
            "_view_module": "@jupyter-widgets/base",
            "_view_module_version": "1.2.0",
            "_view_name": "LayoutView",
            "align_content": null,
            "align_items": null,
            "align_self": null,
            "border": null,
            "bottom": null,
            "display": null,
            "flex": null,
            "flex_flow": null,
            "grid_area": null,
            "grid_auto_columns": null,
            "grid_auto_flow": null,
            "grid_auto_rows": null,
            "grid_column": null,
            "grid_gap": null,
            "grid_row": null,
            "grid_template_areas": null,
            "grid_template_columns": null,
            "grid_template_rows": null,
            "height": null,
            "justify_content": null,
            "justify_items": null,
            "left": null,
            "margin": null,
            "max_height": null,
            "max_width": null,
            "min_height": null,
            "min_width": null,
            "object_fit": null,
            "object_position": null,
            "order": null,
            "overflow": null,
            "overflow_x": null,
            "overflow_y": null,
            "padding": null,
            "right": null,
            "top": null,
            "visibility": null,
            "width": null
          }
        },
        "20896b246a3a4565b896a6e6072270d9": {
          "model_module": "@jupyter-widgets/controls",
          "model_module_version": "1.5.0",
          "model_name": "FloatProgressModel",
          "state": {
            "_dom_classes": [],
            "_model_module": "@jupyter-widgets/controls",
            "_model_module_version": "1.5.0",
            "_model_name": "FloatProgressModel",
            "_view_count": null,
            "_view_module": "@jupyter-widgets/controls",
            "_view_module_version": "1.5.0",
            "_view_name": "ProgressView",
            "bar_style": "success",
            "description": "Downloading: 100%",
            "description_tooltip": null,
            "layout": "IPY_MODEL_77b5b9e95ff3450c86ca6c5d18edfbc2",
            "max": 442,
            "min": 0,
            "orientation": "horizontal",
            "style": "IPY_MODEL_3a7d69b1f94a461baebb0a5ebc02963c",
            "value": 442
          }
        },
        "26dd96f303814df7bad6d21d8f6461ed": {
          "model_module": "@jupyter-widgets/controls",
          "model_module_version": "1.5.0",
          "model_name": "DescriptionStyleModel",
          "state": {
            "_model_module": "@jupyter-widgets/controls",
            "_model_module_version": "1.5.0",
            "_model_name": "DescriptionStyleModel",
            "_view_count": null,
            "_view_module": "@jupyter-widgets/base",
            "_view_module_version": "1.2.0",
            "_view_name": "StyleView",
            "description_width": ""
          }
        },
        "280ecac2c18b46c9992faad0045d8356": {
          "model_module": "@jupyter-widgets/controls",
          "model_module_version": "1.5.0",
          "model_name": "HBoxModel",
          "state": {
            "_dom_classes": [],
            "_model_module": "@jupyter-widgets/controls",
            "_model_module_version": "1.5.0",
            "_model_name": "HBoxModel",
            "_view_count": null,
            "_view_module": "@jupyter-widgets/controls",
            "_view_module_version": "1.5.0",
            "_view_name": "HBoxView",
            "box_style": "",
            "children": [
              "IPY_MODEL_20896b246a3a4565b896a6e6072270d9",
              "IPY_MODEL_f6b6ba6589b045b492ece9814a41a498"
            ],
            "layout": "IPY_MODEL_c5411d7651e8407ca29fc83f5d3d2855"
          }
        },
        "2952c42b7b024caabf3c440c5592adca": {
          "model_module": "@jupyter-widgets/controls",
          "model_module_version": "1.5.0",
          "model_name": "FloatProgressModel",
          "state": {
            "_dom_classes": [],
            "_model_module": "@jupyter-widgets/controls",
            "_model_module_version": "1.5.0",
            "_model_name": "FloatProgressModel",
            "_view_count": null,
            "_view_module": "@jupyter-widgets/controls",
            "_view_module_version": "1.5.0",
            "_view_name": "ProgressView",
            "bar_style": "success",
            "description": "Downloading: 100%",
            "description_tooltip": null,
            "layout": "IPY_MODEL_dd338d748c884528bfc47f9f72b7f830",
            "max": 28,
            "min": 0,
            "orientation": "horizontal",
            "style": "IPY_MODEL_ac81346db5ba4b8fa89fc7405066b95b",
            "value": 28
          }
        },
        "329d32a66aaf45759c19dd5c72393a92": {
          "model_module": "@jupyter-widgets/controls",
          "model_module_version": "1.5.0",
          "model_name": "DescriptionStyleModel",
          "state": {
            "_model_module": "@jupyter-widgets/controls",
            "_model_module_version": "1.5.0",
            "_model_name": "DescriptionStyleModel",
            "_view_count": null,
            "_view_module": "@jupyter-widgets/base",
            "_view_module_version": "1.2.0",
            "_view_name": "StyleView",
            "description_width": ""
          }
        },
        "3a7d69b1f94a461baebb0a5ebc02963c": {
          "model_module": "@jupyter-widgets/controls",
          "model_module_version": "1.5.0",
          "model_name": "ProgressStyleModel",
          "state": {
            "_model_module": "@jupyter-widgets/controls",
            "_model_module_version": "1.5.0",
            "_model_name": "ProgressStyleModel",
            "_view_count": null,
            "_view_module": "@jupyter-widgets/base",
            "_view_module_version": "1.2.0",
            "_view_name": "StyleView",
            "bar_color": null,
            "description_width": "initial"
          }
        },
        "3ff82b7de6ea46bead51203662fbad0c": {
          "model_module": "@jupyter-widgets/controls",
          "model_module_version": "1.5.0",
          "model_name": "DescriptionStyleModel",
          "state": {
            "_model_module": "@jupyter-widgets/controls",
            "_model_module_version": "1.5.0",
            "_model_name": "DescriptionStyleModel",
            "_view_count": null,
            "_view_module": "@jupyter-widgets/base",
            "_view_module_version": "1.2.0",
            "_view_name": "StyleView",
            "description_width": ""
          }
        },
        "43fb475a9efa46bbbcad0e7ac6e92198": {
          "model_module": "@jupyter-widgets/base",
          "model_module_version": "1.2.0",
          "model_name": "LayoutModel",
          "state": {
            "_model_module": "@jupyter-widgets/base",
            "_model_module_version": "1.2.0",
            "_model_name": "LayoutModel",
            "_view_count": null,
            "_view_module": "@jupyter-widgets/base",
            "_view_module_version": "1.2.0",
            "_view_name": "LayoutView",
            "align_content": null,
            "align_items": null,
            "align_self": null,
            "border": null,
            "bottom": null,
            "display": null,
            "flex": null,
            "flex_flow": null,
            "grid_area": null,
            "grid_auto_columns": null,
            "grid_auto_flow": null,
            "grid_auto_rows": null,
            "grid_column": null,
            "grid_gap": null,
            "grid_row": null,
            "grid_template_areas": null,
            "grid_template_columns": null,
            "grid_template_rows": null,
            "height": null,
            "justify_content": null,
            "justify_items": null,
            "left": null,
            "margin": null,
            "max_height": null,
            "max_width": null,
            "min_height": null,
            "min_width": null,
            "object_fit": null,
            "object_position": null,
            "order": null,
            "overflow": null,
            "overflow_x": null,
            "overflow_y": null,
            "padding": null,
            "right": null,
            "top": null,
            "visibility": null,
            "width": null
          }
        },
        "559e564018e9434ab733ce67b37d2903": {
          "model_module": "@jupyter-widgets/controls",
          "model_module_version": "1.5.0",
          "model_name": "FloatProgressModel",
          "state": {
            "_dom_classes": [],
            "_model_module": "@jupyter-widgets/controls",
            "_model_module_version": "1.5.0",
            "_model_name": "FloatProgressModel",
            "_view_count": null,
            "_view_module": "@jupyter-widgets/controls",
            "_view_module_version": "1.5.0",
            "_view_name": "ProgressView",
            "bar_style": "success",
            "description": "Downloading: 100%",
            "description_tooltip": null,
            "layout": "IPY_MODEL_097be87cbf2b424aa4b0d40f9209286f",
            "max": 267967963,
            "min": 0,
            "orientation": "horizontal",
            "style": "IPY_MODEL_c3f9b5456a284bb28f4f489de7396e0e",
            "value": 267967963
          }
        },
        "58233c2a5f764de5976899bff25d2136": {
          "model_module": "@jupyter-widgets/controls",
          "model_module_version": "1.5.0",
          "model_name": "HTMLModel",
          "state": {
            "_dom_classes": [],
            "_model_module": "@jupyter-widgets/controls",
            "_model_module_version": "1.5.0",
            "_model_name": "HTMLModel",
            "_view_count": null,
            "_view_module": "@jupyter-widgets/controls",
            "_view_module_version": "1.5.0",
            "_view_name": "HTMLView",
            "description": "",
            "description_tooltip": null,
            "layout": "IPY_MODEL_6e3434b0efdf45c7b5dc9570c7fede1d",
            "placeholder": "​",
            "style": "IPY_MODEL_15e6895b6e954368a5c99b7d329a2d81",
            "value": " 466k/466k [00:00&lt;00:00, 1.29MB/s]"
          }
        },
        "6532c85be2954c37be0481c779c3065c": {
          "model_module": "@jupyter-widgets/base",
          "model_module_version": "1.2.0",
          "model_name": "LayoutModel",
          "state": {
            "_model_module": "@jupyter-widgets/base",
            "_model_module_version": "1.2.0",
            "_model_name": "LayoutModel",
            "_view_count": null,
            "_view_module": "@jupyter-widgets/base",
            "_view_module_version": "1.2.0",
            "_view_name": "LayoutView",
            "align_content": null,
            "align_items": null,
            "align_self": null,
            "border": null,
            "bottom": null,
            "display": null,
            "flex": null,
            "flex_flow": null,
            "grid_area": null,
            "grid_auto_columns": null,
            "grid_auto_flow": null,
            "grid_auto_rows": null,
            "grid_column": null,
            "grid_gap": null,
            "grid_row": null,
            "grid_template_areas": null,
            "grid_template_columns": null,
            "grid_template_rows": null,
            "height": null,
            "justify_content": null,
            "justify_items": null,
            "left": null,
            "margin": null,
            "max_height": null,
            "max_width": null,
            "min_height": null,
            "min_width": null,
            "object_fit": null,
            "object_position": null,
            "order": null,
            "overflow": null,
            "overflow_x": null,
            "overflow_y": null,
            "padding": null,
            "right": null,
            "top": null,
            "visibility": null,
            "width": null
          }
        },
        "665b3d2798cc49deb264be9cf29973bd": {
          "model_module": "@jupyter-widgets/base",
          "model_module_version": "1.2.0",
          "model_name": "LayoutModel",
          "state": {
            "_model_module": "@jupyter-widgets/base",
            "_model_module_version": "1.2.0",
            "_model_name": "LayoutModel",
            "_view_count": null,
            "_view_module": "@jupyter-widgets/base",
            "_view_module_version": "1.2.0",
            "_view_name": "LayoutView",
            "align_content": null,
            "align_items": null,
            "align_self": null,
            "border": null,
            "bottom": null,
            "display": null,
            "flex": null,
            "flex_flow": null,
            "grid_area": null,
            "grid_auto_columns": null,
            "grid_auto_flow": null,
            "grid_auto_rows": null,
            "grid_column": null,
            "grid_gap": null,
            "grid_row": null,
            "grid_template_areas": null,
            "grid_template_columns": null,
            "grid_template_rows": null,
            "height": null,
            "justify_content": null,
            "justify_items": null,
            "left": null,
            "margin": null,
            "max_height": null,
            "max_width": null,
            "min_height": null,
            "min_width": null,
            "object_fit": null,
            "object_position": null,
            "order": null,
            "overflow": null,
            "overflow_x": null,
            "overflow_y": null,
            "padding": null,
            "right": null,
            "top": null,
            "visibility": null,
            "width": null
          }
        },
        "67a77027917241d5a0ff722a4ddf440a": {
          "model_module": "@jupyter-widgets/controls",
          "model_module_version": "1.5.0",
          "model_name": "HBoxModel",
          "state": {
            "_dom_classes": [],
            "_model_module": "@jupyter-widgets/controls",
            "_model_module_version": "1.5.0",
            "_model_name": "HBoxModel",
            "_view_count": null,
            "_view_module": "@jupyter-widgets/controls",
            "_view_module_version": "1.5.0",
            "_view_name": "HBoxView",
            "box_style": "",
            "children": [
              "IPY_MODEL_2952c42b7b024caabf3c440c5592adca",
              "IPY_MODEL_b30d7309fb7e4909bb1eb5cfd0307a43"
            ],
            "layout": "IPY_MODEL_e6ab2df7eafc422fb5e6463fbc4e7196"
          }
        },
        "68c21fcf69d241c684b41410aa4aa0a7": {
          "model_module": "@jupyter-widgets/base",
          "model_module_version": "1.2.0",
          "model_name": "LayoutModel",
          "state": {
            "_model_module": "@jupyter-widgets/base",
            "_model_module_version": "1.2.0",
            "_model_name": "LayoutModel",
            "_view_count": null,
            "_view_module": "@jupyter-widgets/base",
            "_view_module_version": "1.2.0",
            "_view_name": "LayoutView",
            "align_content": null,
            "align_items": null,
            "align_self": null,
            "border": null,
            "bottom": null,
            "display": null,
            "flex": null,
            "flex_flow": null,
            "grid_area": null,
            "grid_auto_columns": null,
            "grid_auto_flow": null,
            "grid_auto_rows": null,
            "grid_column": null,
            "grid_gap": null,
            "grid_row": null,
            "grid_template_areas": null,
            "grid_template_columns": null,
            "grid_template_rows": null,
            "height": null,
            "justify_content": null,
            "justify_items": null,
            "left": null,
            "margin": null,
            "max_height": null,
            "max_width": null,
            "min_height": null,
            "min_width": null,
            "object_fit": null,
            "object_position": null,
            "order": null,
            "overflow": null,
            "overflow_x": null,
            "overflow_y": null,
            "padding": null,
            "right": null,
            "top": null,
            "visibility": null,
            "width": null
          }
        },
        "6bbca9dcd5044425aa15b74bbffcbed8": {
          "model_module": "@jupyter-widgets/controls",
          "model_module_version": "1.5.0",
          "model_name": "FloatProgressModel",
          "state": {
            "_dom_classes": [],
            "_model_module": "@jupyter-widgets/controls",
            "_model_module_version": "1.5.0",
            "_model_name": "FloatProgressModel",
            "_view_count": null,
            "_view_module": "@jupyter-widgets/controls",
            "_view_module_version": "1.5.0",
            "_view_name": "ProgressView",
            "bar_style": "success",
            "description": "Downloading: 100%",
            "description_tooltip": null,
            "layout": "IPY_MODEL_baba9f96abf6403ab2ff9a49ff5dd7e7",
            "max": 466062,
            "min": 0,
            "orientation": "horizontal",
            "style": "IPY_MODEL_fc59f590e49c46ce869f8aa010433d63",
            "value": 466062
          }
        },
        "6e3434b0efdf45c7b5dc9570c7fede1d": {
          "model_module": "@jupyter-widgets/base",
          "model_module_version": "1.2.0",
          "model_name": "LayoutModel",
          "state": {
            "_model_module": "@jupyter-widgets/base",
            "_model_module_version": "1.2.0",
            "_model_name": "LayoutModel",
            "_view_count": null,
            "_view_module": "@jupyter-widgets/base",
            "_view_module_version": "1.2.0",
            "_view_name": "LayoutView",
            "align_content": null,
            "align_items": null,
            "align_self": null,
            "border": null,
            "bottom": null,
            "display": null,
            "flex": null,
            "flex_flow": null,
            "grid_area": null,
            "grid_auto_columns": null,
            "grid_auto_flow": null,
            "grid_auto_rows": null,
            "grid_column": null,
            "grid_gap": null,
            "grid_row": null,
            "grid_template_areas": null,
            "grid_template_columns": null,
            "grid_template_rows": null,
            "height": null,
            "justify_content": null,
            "justify_items": null,
            "left": null,
            "margin": null,
            "max_height": null,
            "max_width": null,
            "min_height": null,
            "min_width": null,
            "object_fit": null,
            "object_position": null,
            "order": null,
            "overflow": null,
            "overflow_x": null,
            "overflow_y": null,
            "padding": null,
            "right": null,
            "top": null,
            "visibility": null,
            "width": null
          }
        },
        "77b5b9e95ff3450c86ca6c5d18edfbc2": {
          "model_module": "@jupyter-widgets/base",
          "model_module_version": "1.2.0",
          "model_name": "LayoutModel",
          "state": {
            "_model_module": "@jupyter-widgets/base",
            "_model_module_version": "1.2.0",
            "_model_name": "LayoutModel",
            "_view_count": null,
            "_view_module": "@jupyter-widgets/base",
            "_view_module_version": "1.2.0",
            "_view_name": "LayoutView",
            "align_content": null,
            "align_items": null,
            "align_self": null,
            "border": null,
            "bottom": null,
            "display": null,
            "flex": null,
            "flex_flow": null,
            "grid_area": null,
            "grid_auto_columns": null,
            "grid_auto_flow": null,
            "grid_auto_rows": null,
            "grid_column": null,
            "grid_gap": null,
            "grid_row": null,
            "grid_template_areas": null,
            "grid_template_columns": null,
            "grid_template_rows": null,
            "height": null,
            "justify_content": null,
            "justify_items": null,
            "left": null,
            "margin": null,
            "max_height": null,
            "max_width": null,
            "min_height": null,
            "min_width": null,
            "object_fit": null,
            "object_position": null,
            "order": null,
            "overflow": null,
            "overflow_x": null,
            "overflow_y": null,
            "padding": null,
            "right": null,
            "top": null,
            "visibility": null,
            "width": null
          }
        },
        "ac81346db5ba4b8fa89fc7405066b95b": {
          "model_module": "@jupyter-widgets/controls",
          "model_module_version": "1.5.0",
          "model_name": "ProgressStyleModel",
          "state": {
            "_model_module": "@jupyter-widgets/controls",
            "_model_module_version": "1.5.0",
            "_model_name": "ProgressStyleModel",
            "_view_count": null,
            "_view_module": "@jupyter-widgets/base",
            "_view_module_version": "1.2.0",
            "_view_name": "StyleView",
            "bar_color": null,
            "description_width": "initial"
          }
        },
        "b30d7309fb7e4909bb1eb5cfd0307a43": {
          "model_module": "@jupyter-widgets/controls",
          "model_module_version": "1.5.0",
          "model_name": "HTMLModel",
          "state": {
            "_dom_classes": [],
            "_model_module": "@jupyter-widgets/controls",
            "_model_module_version": "1.5.0",
            "_model_name": "HTMLModel",
            "_view_count": null,
            "_view_module": "@jupyter-widgets/controls",
            "_view_module_version": "1.5.0",
            "_view_name": "HTMLView",
            "description": "",
            "description_tooltip": null,
            "layout": "IPY_MODEL_c05c433bf9e24e3096ed2e1e087453a7",
            "placeholder": "​",
            "style": "IPY_MODEL_3ff82b7de6ea46bead51203662fbad0c",
            "value": " 28.0/28.0 [00:00&lt;00:00, 33.2B/s]"
          }
        },
        "baba9f96abf6403ab2ff9a49ff5dd7e7": {
          "model_module": "@jupyter-widgets/base",
          "model_module_version": "1.2.0",
          "model_name": "LayoutModel",
          "state": {
            "_model_module": "@jupyter-widgets/base",
            "_model_module_version": "1.2.0",
            "_model_name": "LayoutModel",
            "_view_count": null,
            "_view_module": "@jupyter-widgets/base",
            "_view_module_version": "1.2.0",
            "_view_name": "LayoutView",
            "align_content": null,
            "align_items": null,
            "align_self": null,
            "border": null,
            "bottom": null,
            "display": null,
            "flex": null,
            "flex_flow": null,
            "grid_area": null,
            "grid_auto_columns": null,
            "grid_auto_flow": null,
            "grid_auto_rows": null,
            "grid_column": null,
            "grid_gap": null,
            "grid_row": null,
            "grid_template_areas": null,
            "grid_template_columns": null,
            "grid_template_rows": null,
            "height": null,
            "justify_content": null,
            "justify_items": null,
            "left": null,
            "margin": null,
            "max_height": null,
            "max_width": null,
            "min_height": null,
            "min_width": null,
            "object_fit": null,
            "object_position": null,
            "order": null,
            "overflow": null,
            "overflow_x": null,
            "overflow_y": null,
            "padding": null,
            "right": null,
            "top": null,
            "visibility": null,
            "width": null
          }
        },
        "bb5d5f12ca9243b7b5ac5c66b6458c90": {
          "model_module": "@jupyter-widgets/controls",
          "model_module_version": "1.5.0",
          "model_name": "HBoxModel",
          "state": {
            "_dom_classes": [],
            "_model_module": "@jupyter-widgets/controls",
            "_model_module_version": "1.5.0",
            "_model_name": "HBoxModel",
            "_view_count": null,
            "_view_module": "@jupyter-widgets/controls",
            "_view_module_version": "1.5.0",
            "_view_name": "HBoxView",
            "box_style": "",
            "children": [
              "IPY_MODEL_559e564018e9434ab733ce67b37d2903",
              "IPY_MODEL_1789f5f3dbf74999a9945fa0506c5863"
            ],
            "layout": "IPY_MODEL_e757625070f64722818b1e989f0ad1da"
          }
        },
        "bbcb42de64ff444ab0d283a735d1269a": {
          "model_module": "@jupyter-widgets/controls",
          "model_module_version": "1.5.0",
          "model_name": "FloatProgressModel",
          "state": {
            "_dom_classes": [],
            "_model_module": "@jupyter-widgets/controls",
            "_model_module_version": "1.5.0",
            "_model_name": "FloatProgressModel",
            "_view_count": null,
            "_view_module": "@jupyter-widgets/controls",
            "_view_module_version": "1.5.0",
            "_view_name": "ProgressView",
            "bar_style": "success",
            "description": "Downloading: 100%",
            "description_tooltip": null,
            "layout": "IPY_MODEL_68c21fcf69d241c684b41410aa4aa0a7",
            "max": 231508,
            "min": 0,
            "orientation": "horizontal",
            "style": "IPY_MODEL_fe1328c03a1a4dc5b0370bf1caafea9f",
            "value": 231508
          }
        },
        "c05c433bf9e24e3096ed2e1e087453a7": {
          "model_module": "@jupyter-widgets/base",
          "model_module_version": "1.2.0",
          "model_name": "LayoutModel",
          "state": {
            "_model_module": "@jupyter-widgets/base",
            "_model_module_version": "1.2.0",
            "_model_name": "LayoutModel",
            "_view_count": null,
            "_view_module": "@jupyter-widgets/base",
            "_view_module_version": "1.2.0",
            "_view_name": "LayoutView",
            "align_content": null,
            "align_items": null,
            "align_self": null,
            "border": null,
            "bottom": null,
            "display": null,
            "flex": null,
            "flex_flow": null,
            "grid_area": null,
            "grid_auto_columns": null,
            "grid_auto_flow": null,
            "grid_auto_rows": null,
            "grid_column": null,
            "grid_gap": null,
            "grid_row": null,
            "grid_template_areas": null,
            "grid_template_columns": null,
            "grid_template_rows": null,
            "height": null,
            "justify_content": null,
            "justify_items": null,
            "left": null,
            "margin": null,
            "max_height": null,
            "max_width": null,
            "min_height": null,
            "min_width": null,
            "object_fit": null,
            "object_position": null,
            "order": null,
            "overflow": null,
            "overflow_x": null,
            "overflow_y": null,
            "padding": null,
            "right": null,
            "top": null,
            "visibility": null,
            "width": null
          }
        },
        "c3f9b5456a284bb28f4f489de7396e0e": {
          "model_module": "@jupyter-widgets/controls",
          "model_module_version": "1.5.0",
          "model_name": "ProgressStyleModel",
          "state": {
            "_model_module": "@jupyter-widgets/controls",
            "_model_module_version": "1.5.0",
            "_model_name": "ProgressStyleModel",
            "_view_count": null,
            "_view_module": "@jupyter-widgets/base",
            "_view_module_version": "1.2.0",
            "_view_name": "StyleView",
            "bar_color": null,
            "description_width": "initial"
          }
        },
        "c5411d7651e8407ca29fc83f5d3d2855": {
          "model_module": "@jupyter-widgets/base",
          "model_module_version": "1.2.0",
          "model_name": "LayoutModel",
          "state": {
            "_model_module": "@jupyter-widgets/base",
            "_model_module_version": "1.2.0",
            "_model_name": "LayoutModel",
            "_view_count": null,
            "_view_module": "@jupyter-widgets/base",
            "_view_module_version": "1.2.0",
            "_view_name": "LayoutView",
            "align_content": null,
            "align_items": null,
            "align_self": null,
            "border": null,
            "bottom": null,
            "display": null,
            "flex": null,
            "flex_flow": null,
            "grid_area": null,
            "grid_auto_columns": null,
            "grid_auto_flow": null,
            "grid_auto_rows": null,
            "grid_column": null,
            "grid_gap": null,
            "grid_row": null,
            "grid_template_areas": null,
            "grid_template_columns": null,
            "grid_template_rows": null,
            "height": null,
            "justify_content": null,
            "justify_items": null,
            "left": null,
            "margin": null,
            "max_height": null,
            "max_width": null,
            "min_height": null,
            "min_width": null,
            "object_fit": null,
            "object_position": null,
            "order": null,
            "overflow": null,
            "overflow_x": null,
            "overflow_y": null,
            "padding": null,
            "right": null,
            "top": null,
            "visibility": null,
            "width": null
          }
        },
        "d0571398207f49babcce611b92ad8856": {
          "model_module": "@jupyter-widgets/controls",
          "model_module_version": "1.5.0",
          "model_name": "DescriptionStyleModel",
          "state": {
            "_model_module": "@jupyter-widgets/controls",
            "_model_module_version": "1.5.0",
            "_model_name": "DescriptionStyleModel",
            "_view_count": null,
            "_view_module": "@jupyter-widgets/base",
            "_view_module_version": "1.2.0",
            "_view_name": "StyleView",
            "description_width": ""
          }
        },
        "d91e2ab247184ee3963aea32b946be8b": {
          "model_module": "@jupyter-widgets/controls",
          "model_module_version": "1.5.0",
          "model_name": "HBoxModel",
          "state": {
            "_dom_classes": [],
            "_model_module": "@jupyter-widgets/controls",
            "_model_module_version": "1.5.0",
            "_model_name": "HBoxModel",
            "_view_count": null,
            "_view_module": "@jupyter-widgets/controls",
            "_view_module_version": "1.5.0",
            "_view_name": "HBoxView",
            "box_style": "",
            "children": [
              "IPY_MODEL_bbcb42de64ff444ab0d283a735d1269a",
              "IPY_MODEL_eddaa544e09f49b4b579b0bc25dd5dab"
            ],
            "layout": "IPY_MODEL_0311f71a5caf4f9b8f0645c8603f6c3d"
          }
        },
        "dd338d748c884528bfc47f9f72b7f830": {
          "model_module": "@jupyter-widgets/base",
          "model_module_version": "1.2.0",
          "model_name": "LayoutModel",
          "state": {
            "_model_module": "@jupyter-widgets/base",
            "_model_module_version": "1.2.0",
            "_model_name": "LayoutModel",
            "_view_count": null,
            "_view_module": "@jupyter-widgets/base",
            "_view_module_version": "1.2.0",
            "_view_name": "LayoutView",
            "align_content": null,
            "align_items": null,
            "align_self": null,
            "border": null,
            "bottom": null,
            "display": null,
            "flex": null,
            "flex_flow": null,
            "grid_area": null,
            "grid_auto_columns": null,
            "grid_auto_flow": null,
            "grid_auto_rows": null,
            "grid_column": null,
            "grid_gap": null,
            "grid_row": null,
            "grid_template_areas": null,
            "grid_template_columns": null,
            "grid_template_rows": null,
            "height": null,
            "justify_content": null,
            "justify_items": null,
            "left": null,
            "margin": null,
            "max_height": null,
            "max_width": null,
            "min_height": null,
            "min_width": null,
            "object_fit": null,
            "object_position": null,
            "order": null,
            "overflow": null,
            "overflow_x": null,
            "overflow_y": null,
            "padding": null,
            "right": null,
            "top": null,
            "visibility": null,
            "width": null
          }
        },
        "e1100f03c67a43df9c2a22eb41886079": {
          "model_module": "@jupyter-widgets/controls",
          "model_module_version": "1.5.0",
          "model_name": "HBoxModel",
          "state": {
            "_dom_classes": [],
            "_model_module": "@jupyter-widgets/controls",
            "_model_module_version": "1.5.0",
            "_model_name": "HBoxModel",
            "_view_count": null,
            "_view_module": "@jupyter-widgets/controls",
            "_view_module_version": "1.5.0",
            "_view_name": "HBoxView",
            "box_style": "",
            "children": [
              "IPY_MODEL_6bbca9dcd5044425aa15b74bbffcbed8",
              "IPY_MODEL_58233c2a5f764de5976899bff25d2136"
            ],
            "layout": "IPY_MODEL_6532c85be2954c37be0481c779c3065c"
          }
        },
        "e6ab2df7eafc422fb5e6463fbc4e7196": {
          "model_module": "@jupyter-widgets/base",
          "model_module_version": "1.2.0",
          "model_name": "LayoutModel",
          "state": {
            "_model_module": "@jupyter-widgets/base",
            "_model_module_version": "1.2.0",
            "_model_name": "LayoutModel",
            "_view_count": null,
            "_view_module": "@jupyter-widgets/base",
            "_view_module_version": "1.2.0",
            "_view_name": "LayoutView",
            "align_content": null,
            "align_items": null,
            "align_self": null,
            "border": null,
            "bottom": null,
            "display": null,
            "flex": null,
            "flex_flow": null,
            "grid_area": null,
            "grid_auto_columns": null,
            "grid_auto_flow": null,
            "grid_auto_rows": null,
            "grid_column": null,
            "grid_gap": null,
            "grid_row": null,
            "grid_template_areas": null,
            "grid_template_columns": null,
            "grid_template_rows": null,
            "height": null,
            "justify_content": null,
            "justify_items": null,
            "left": null,
            "margin": null,
            "max_height": null,
            "max_width": null,
            "min_height": null,
            "min_width": null,
            "object_fit": null,
            "object_position": null,
            "order": null,
            "overflow": null,
            "overflow_x": null,
            "overflow_y": null,
            "padding": null,
            "right": null,
            "top": null,
            "visibility": null,
            "width": null
          }
        },
        "e757625070f64722818b1e989f0ad1da": {
          "model_module": "@jupyter-widgets/base",
          "model_module_version": "1.2.0",
          "model_name": "LayoutModel",
          "state": {
            "_model_module": "@jupyter-widgets/base",
            "_model_module_version": "1.2.0",
            "_model_name": "LayoutModel",
            "_view_count": null,
            "_view_module": "@jupyter-widgets/base",
            "_view_module_version": "1.2.0",
            "_view_name": "LayoutView",
            "align_content": null,
            "align_items": null,
            "align_self": null,
            "border": null,
            "bottom": null,
            "display": null,
            "flex": null,
            "flex_flow": null,
            "grid_area": null,
            "grid_auto_columns": null,
            "grid_auto_flow": null,
            "grid_auto_rows": null,
            "grid_column": null,
            "grid_gap": null,
            "grid_row": null,
            "grid_template_areas": null,
            "grid_template_columns": null,
            "grid_template_rows": null,
            "height": null,
            "justify_content": null,
            "justify_items": null,
            "left": null,
            "margin": null,
            "max_height": null,
            "max_width": null,
            "min_height": null,
            "min_width": null,
            "object_fit": null,
            "object_position": null,
            "order": null,
            "overflow": null,
            "overflow_x": null,
            "overflow_y": null,
            "padding": null,
            "right": null,
            "top": null,
            "visibility": null,
            "width": null
          }
        },
        "eddaa544e09f49b4b579b0bc25dd5dab": {
          "model_module": "@jupyter-widgets/controls",
          "model_module_version": "1.5.0",
          "model_name": "HTMLModel",
          "state": {
            "_dom_classes": [],
            "_model_module": "@jupyter-widgets/controls",
            "_model_module_version": "1.5.0",
            "_model_name": "HTMLModel",
            "_view_count": null,
            "_view_module": "@jupyter-widgets/controls",
            "_view_module_version": "1.5.0",
            "_view_name": "HTMLView",
            "description": "",
            "description_tooltip": null,
            "layout": "IPY_MODEL_1d3ac4a4c175475595711b57f1b61dce",
            "placeholder": "​",
            "style": "IPY_MODEL_329d32a66aaf45759c19dd5c72393a92",
            "value": " 232k/232k [00:01&lt;00:00, 118kB/s]"
          }
        },
        "f6b6ba6589b045b492ece9814a41a498": {
          "model_module": "@jupyter-widgets/controls",
          "model_module_version": "1.5.0",
          "model_name": "HTMLModel",
          "state": {
            "_dom_classes": [],
            "_model_module": "@jupyter-widgets/controls",
            "_model_module_version": "1.5.0",
            "_model_name": "HTMLModel",
            "_view_count": null,
            "_view_module": "@jupyter-widgets/controls",
            "_view_module_version": "1.5.0",
            "_view_name": "HTMLView",
            "description": "",
            "description_tooltip": null,
            "layout": "IPY_MODEL_665b3d2798cc49deb264be9cf29973bd",
            "placeholder": "​",
            "style": "IPY_MODEL_d0571398207f49babcce611b92ad8856",
            "value": " 442/442 [00:00&lt;00:00, 891B/s]"
          }
        },
        "fc59f590e49c46ce869f8aa010433d63": {
          "model_module": "@jupyter-widgets/controls",
          "model_module_version": "1.5.0",
          "model_name": "ProgressStyleModel",
          "state": {
            "_model_module": "@jupyter-widgets/controls",
            "_model_module_version": "1.5.0",
            "_model_name": "ProgressStyleModel",
            "_view_count": null,
            "_view_module": "@jupyter-widgets/base",
            "_view_module_version": "1.2.0",
            "_view_name": "StyleView",
            "bar_color": null,
            "description_width": "initial"
          }
        },
        "fe1328c03a1a4dc5b0370bf1caafea9f": {
          "model_module": "@jupyter-widgets/controls",
          "model_module_version": "1.5.0",
          "model_name": "ProgressStyleModel",
          "state": {
            "_model_module": "@jupyter-widgets/controls",
            "_model_module_version": "1.5.0",
            "_model_name": "ProgressStyleModel",
            "_view_count": null,
            "_view_module": "@jupyter-widgets/base",
            "_view_module_version": "1.2.0",
            "_view_name": "StyleView",
            "bar_color": null,
            "description_width": "initial"
          }
        }
      }
    }
  },
  "nbformat": 4,
  "nbformat_minor": 0
}
